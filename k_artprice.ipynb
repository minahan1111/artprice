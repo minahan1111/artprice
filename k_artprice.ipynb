{
 "cells": [
  {
   "cell_type": "code",
   "execution_count": 1,
   "metadata": {},
   "outputs": [],
   "source": [
    "#!pip install selenium"
   ]
  },
  {
   "cell_type": "code",
   "execution_count": 1,
   "metadata": {},
   "outputs": [],
   "source": [
    "import time\n",
    "import pandas as pd\n",
    "from selenium import webdriver\n",
    "from selenium.webdriver.common.keys import Keys"
   ]
  },
  {
   "cell_type": "code",
   "execution_count": 2,
   "metadata": {},
   "outputs": [],
   "source": [
    "import selenium\n",
    "from selenium import webdriver\n",
    "from selenium.webdriver.common.keys import Keys\n",
    "\n",
    "# driver = webdriver.Chrome()"
   ]
  },
  {
   "cell_type": "code",
   "execution_count": 3,
   "metadata": {},
   "outputs": [],
   "source": [
    "from selenium.webdriver.chrome.options import Options"
   ]
  },
  {
   "cell_type": "code",
   "execution_count": 4,
   "metadata": {},
   "outputs": [],
   "source": [
    "id_ = \"\"\n",
    "pw_ = \"\""
   ]
  },
  {
   "cell_type": "code",
   "execution_count": 57,
   "metadata": {},
   "outputs": [
    {
     "name": "stderr",
     "output_type": "stream",
     "text": [
      "<ipython-input-57-2b456d49fa61>:5: DeprecationWarning: use options instead of chrome_options\n",
      "  driver = webdriver.Chrome('./chromedriver.exe', chrome_options=options)\n"
     ]
    }
   ],
   "source": [
    "options = Options()\n",
    "# chrome을 전체화면으로 넓히는 옵션입니다.\n",
    "# options.add_argument('--start-fullscreen')\n",
    "\n",
    "driver = webdriver.Chrome('./chromedriver.exe', chrome_options=options) \n",
    "driver.implicitly_wait(3)"
   ]
  },
  {
   "cell_type": "markdown",
   "metadata": {},
   "source": [
    "## 네이버 보안으로 인해 페이지에서 로그인이 한 번 더 필요"
   ]
  },
  {
   "cell_type": "code",
   "execution_count": 58,
   "metadata": {},
   "outputs": [],
   "source": [
    "driver.get('http://kartprice.net/')\n",
    "\n",
    "\n",
    "driver.find_element_by_css_selector('body > div.pye_wrap > div.pye_header > div.pye_header_m > div > ul > li:nth-child(2) > a').click()\n",
    "time.sleep(3)\n",
    "id_s = driver.find_element_by_xpath('//*[@id=\"id\"]')\n",
    "id_s.send_keys(id_)\n",
    "time.sleep(1)\n",
    "pw_s = driver.find_element_by_xpath('//*[@id=\"pw\"]')\n",
    "pw_s.send_keys(pw_)\n",
    "pw_s.send_keys(Keys.ENTER)"
   ]
  },
  {
   "cell_type": "code",
   "execution_count": 102,
   "metadata": {},
   "outputs": [
    {
     "name": "stdout",
     "output_type": "stream",
     "text": [
      "검색어를 입력해 주세요 : 안중근\n"
     ]
    }
   ],
   "source": [
    "search_word = input(\"검색어를 입력해 주세요 : \")\n",
    "#검색할 칸을 찾아\n",
    "search = driver.find_element_by_xpath('//*[@id=\"search_val\"]')\n",
    "search.clear() # 같은 사이트 여러번 크롤링했을 때의 문제 해결위함\n",
    "search.send_keys(search_word)\n",
    "time.sleep(1)\n",
    "search.send_keys(Keys.ENTER) # 엔터키를 눌러 검색 진행"
   ]
  },
  {
   "cell_type": "markdown",
   "metadata": {},
   "source": [
    "## 크롤링 진행"
   ]
  },
  {
   "cell_type": "markdown",
   "metadata": {},
   "source": [
    "### 마지막페이지 크롤링이 안됨"
   ]
  },
  {
   "cell_type": "code",
   "execution_count": 104,
   "metadata": {},
   "outputs": [
    {
     "name": "stdout",
     "output_type": "stream",
     "text": [
      "백자 호(국가안위 노심초사) 2\n",
      "승피백운지우제향의 3\n",
      "안중근 사진 우편엽서 4\n",
      "묵서 5\n",
      "세심대 6\n",
      "휘호(견리사의견위수명) 7\n",
      "일통청화공 8\n",
      "안중근선생 9\n",
      "안중근 크롤링 완료, 총 8건의 크롤링 완료\n"
     ]
    }
   ],
   "source": [
    "total_title = []\n",
    "total_author = []\n",
    "total_year = []\n",
    "total_standard = []\n",
    "total_genre = []\n",
    "total_technique = []\n",
    "total_source = []\n",
    "total_date = []\n",
    "total_price = []\n",
    "j=1\n",
    "successful_bids = int(driver.find_element_by_xpath('/html/body/div[1]/div[3]/div/div/div/div[3]/dl/dd/p[2]').text[5:])\n",
    "if successful_bids <= 10:\n",
    "    total_length = 2\n",
    "else:\n",
    "    total_length = successful_bids//10+1\n",
    "\n",
    "for j in range(j, total_length):\n",
    "    # 오류의 이유 -> 마지막페이지는 10개가 아니야 -> 이 부분 수정 필요\n",
    "    page_length = len(driver.find_elements_by_css_selector(\n",
    "     'body > div.pye_wrap > div:nth-child(9) > div > div > table > thead > tr'))\n",
    "    page_pictures = int(len(driver.find_elements_by_css_selector('.txt_slice1'))/2)\n",
    "    for i in range(2, page_pictures+2):  ## 게시물 10개 크롤링\n",
    "        if len(total_price)<9:\n",
    "            child_param = 9\n",
    "        else:\n",
    "            child_param = 7\n",
    "        # 작품명\n",
    "        title = driver.find_element_by_css_selector(\n",
    "                f\"body > div.pye_wrap > div:nth-child({child_param}) > div > div > table > thead > tr:nth-child({i}) > td.title > p\")\n",
    "        #작가명\n",
    "        author = driver.find_element_by_css_selector(\n",
    "                f\"body > div.pye_wrap > div:nth-child({child_param}) > div > div > table > thead > tr:nth-child({i}) > td.name > p\")\n",
    "        # 제작년도\n",
    "        year = driver.find_element_by_css_selector(\n",
    "                f\"body > div.pye_wrap > div:nth-child({child_param}) > div > div > table > thead > tr:nth-child({i}) > td:nth-child(5) > p:nth-child(1)\")\n",
    "        # 규격\n",
    "        standard = driver.find_element_by_css_selector(\n",
    "                f\"body > div.pye_wrap > div:nth-child({child_param}) > div > div > table > thead > tr:nth-child({i}) > td:nth-child(5) > p.txt_slice2\")\n",
    "        # 장르\n",
    "        genre = driver.find_element_by_css_selector(\n",
    "                f\"body > div.pye_wrap > div:nth-child({child_param}) > div > div > table > thead > tr:nth-child({i}) > td:nth-child(6) > p:nth-child(1)\")\n",
    "        # 기법\n",
    "        technique = driver.find_element_by_css_selector(\n",
    "                f\"body > div.pye_wrap > div:nth-child({child_param}) > div > div > table > thead > tr:nth-child({i}) > td:nth-child(6) > p.txt_slice2\") \n",
    "        # 출품처\n",
    "        source = driver.find_element_by_css_selector(\n",
    "                f\"body > div.pye_wrap > div:nth-child({child_param}) > div > div > table > thead > tr:nth-child({i}) > td:nth-child(7) > p.txt_slice2\")\n",
    "        # 거래일\n",
    "        date = driver.find_element_by_css_selector(\n",
    "                f\"body > div.pye_wrap > div:nth-child({child_param}) > div > div > table > thead > tr:nth-child({i}) > td:nth-child(7) > p:nth-child(2)\")\n",
    "        # 낙찰가격\n",
    "        price = driver.find_element_by_css_selector(\n",
    "                f\"body > div.pye_wrap > div:nth-child({child_param}) > div > div > table > thead > tr:nth-child({i}) > td.money\")\n",
    "\n",
    "        time.sleep(1)\n",
    "        print(title.text, i-1)\n",
    "        total_title.append(title.text)\n",
    "        total_author.append(author.text)\n",
    "        total_year.append(year.text)\n",
    "        total_standard.append(standard.text)\n",
    "        total_genre.append(genre.text)\n",
    "        total_technique.append(technique.text)\n",
    "        total_source.append(source.text)\n",
    "        total_date.append(date.text)\n",
    "        total_price.append(price.text)\n",
    "        \n",
    "        # 마지막페이지에서 i%10==0일때 버튼이 존재하지 않아 -> 마지막 게시글은 크롤링이 안됨\n",
    "        if i%10==0:\n",
    "            print(f\"{j}/{pages} 크롤링 완료...현재까지 모인 데이터의 양 : {len(total_title)}\")\n",
    "            \n",
    "            try:\n",
    "                driver.find_element_by_css_selector(\n",
    "                   \"#paging_t1 > button.next\").click()\n",
    "                time.sleep(2)\n",
    "            except:\n",
    "                # 작품명\n",
    "                title = driver.find_element_by_css_selector(\n",
    "                        f\"body > div.pye_wrap > div:nth-child({child_param}) > div > div > table > thead > tr:nth-child({i+1}) > td.title > p\")\n",
    "                #작가명\n",
    "                author = driver.find_element_by_css_selector(\n",
    "                        f\"body > div.pye_wrap > div:nth-child({child_param}) > div > div > table > thead > tr:nth-child({i+1}) > td.name > p\")\n",
    "                # 제작년도\n",
    "                year = driver.find_element_by_css_selector(\n",
    "                        f\"body > div.pye_wrap > div:nth-child({child_param}) > div > div > table > thead > tr:nth-child({i+1}) > td:nth-child(5) > p:nth-child(1)\")\n",
    "                # 규격\n",
    "                standard = driver.find_element_by_css_selector(\n",
    "                        f\"body > div.pye_wrap > div:nth-child({child_param}) > div > div > table > thead > tr:nth-child({i+1}) > td:nth-child(5) > p.txt_slice2\")\n",
    "                # 장르\n",
    "                genre = driver.find_element_by_css_selector(\n",
    "                        f\"body > div.pye_wrap > div:nth-child({child_param}) > div > div > table > thead > tr:nth-child({i+1}) > td:nth-child(6) > p:nth-child(1)\")\n",
    "                # 기법\n",
    "                technique = driver.find_element_by_css_selector(\n",
    "                        f\"body > div.pye_wrap > div:nth-child({child_param}) > div > div > table > thead > tr:nth-child({i+1}) > td:nth-child(6) > p.txt_slice2\") \n",
    "                # 출품처\n",
    "                source = driver.find_element_by_css_selector(\n",
    "                        f\"body > div.pye_wrap > div:nth-child({child_param}) > div > div > table > thead > tr:nth-child({i+1}) > td:nth-child(7) > p.txt_slice2\")\n",
    "                # 거래일\n",
    "                date = driver.find_element_by_css_selector(\n",
    "                        f\"body > div.pye_wrap > div:nth-child({child_param}) > div > div > table > thead > tr:nth-child({i+1}) > td:nth-child(7) > p:nth-child(2)\")\n",
    "                # 낙찰가격\n",
    "                price = driver.find_element_by_css_selector(\n",
    "                        f\"body > div.pye_wrap > div:nth-child({child_param}) > div > div > table > thead > tr:nth-child({i+1}) > td.money\")\n",
    "                total_title.append(title.text)\n",
    "                total_author.append(author.text)\n",
    "                total_year.append(year.text)\n",
    "                total_standard.append(standard.text)\n",
    "                total_genre.append(genre.text)\n",
    "                total_technique.append(technique.text)\n",
    "                total_source.append(source.text)\n",
    "                total_date.append(date.text)\n",
    "                total_price.append(price.text)\n",
    "                break\n",
    "                \n",
    "print(f'{search_word} 크롤링 완료, 총 {len(total_title)}건의 크롤링 완료')"
   ]
  },
  {
   "cell_type": "code",
   "execution_count": 105,
   "metadata": {},
   "outputs": [
    {
     "data": {
      "text/html": [
       "<div>\n",
       "<style scoped>\n",
       "    .dataframe tbody tr th:only-of-type {\n",
       "        vertical-align: middle;\n",
       "    }\n",
       "\n",
       "    .dataframe tbody tr th {\n",
       "        vertical-align: top;\n",
       "    }\n",
       "\n",
       "    .dataframe thead th {\n",
       "        text-align: right;\n",
       "    }\n",
       "</style>\n",
       "<table border=\"1\" class=\"dataframe\">\n",
       "  <thead>\n",
       "    <tr style=\"text-align: right;\">\n",
       "      <th></th>\n",
       "      <th>title</th>\n",
       "      <th>author</th>\n",
       "      <th>year</th>\n",
       "      <th>standard</th>\n",
       "      <th>genre</th>\n",
       "      <th>technique</th>\n",
       "      <th>source</th>\n",
       "      <th>date</th>\n",
       "      <th>price</th>\n",
       "    </tr>\n",
       "  </thead>\n",
       "  <tbody>\n",
       "    <tr>\n",
       "      <th>0</th>\n",
       "      <td>백자 호(국가안위 노심초사)</td>\n",
       "      <td>안중근</td>\n",
       "      <td></td>\n",
       "      <td>42×19.5×15.5cm</td>\n",
       "      <td>서예</td>\n",
       "      <td>도자</td>\n",
       "      <td>아이옥션 온라인</td>\n",
       "      <td>2021/01/25</td>\n",
       "      <td>￦100,000</td>\n",
       "    </tr>\n",
       "    <tr>\n",
       "      <th>1</th>\n",
       "      <td>승피백운지우제향의</td>\n",
       "      <td>안중근</td>\n",
       "      <td>1910.03</td>\n",
       "      <td>137.7×34cm</td>\n",
       "      <td>서예</td>\n",
       "      <td>종이에 먹</td>\n",
       "      <td>서울옥션</td>\n",
       "      <td>2018/12/13</td>\n",
       "      <td>￦750,000,000</td>\n",
       "    </tr>\n",
       "    <tr>\n",
       "      <th>2</th>\n",
       "      <td>안중근 사진 우편엽서</td>\n",
       "      <td>안중근</td>\n",
       "      <td>1910.03</td>\n",
       "      <td>14×9cm</td>\n",
       "      <td>기타</td>\n",
       "      <td>종이에 인쇄</td>\n",
       "      <td>마이아트옥션</td>\n",
       "      <td>2018/05/24</td>\n",
       "      <td>￦20,000,000</td>\n",
       "    </tr>\n",
       "    <tr>\n",
       "      <th>3</th>\n",
       "      <td>묵서</td>\n",
       "      <td>안중근</td>\n",
       "      <td>1910.03</td>\n",
       "      <td>24.5×19cm</td>\n",
       "      <td>서예</td>\n",
       "      <td>종이에 먹</td>\n",
       "      <td>마이아트옥션</td>\n",
       "      <td>2018/05/24</td>\n",
       "      <td>￦160,000,000</td>\n",
       "    </tr>\n",
       "    <tr>\n",
       "      <th>4</th>\n",
       "      <td>세심대</td>\n",
       "      <td>안중근</td>\n",
       "      <td>1910</td>\n",
       "      <td>38.5×73.5cm</td>\n",
       "      <td>서예</td>\n",
       "      <td>비단에 먹</td>\n",
       "      <td>K옥션</td>\n",
       "      <td>2017/12/12</td>\n",
       "      <td>￦400,000,000</td>\n",
       "    </tr>\n",
       "    <tr>\n",
       "      <th>5</th>\n",
       "      <td>휘호(견리사의견위수명)</td>\n",
       "      <td>안중근</td>\n",
       "      <td>1910(경술년)</td>\n",
       "      <td>132×28.5cm</td>\n",
       "      <td>판화</td>\n",
       "      <td>영인본</td>\n",
       "      <td>아이옥션 온라인</td>\n",
       "      <td>2017/08/08</td>\n",
       "      <td>￦390,000</td>\n",
       "    </tr>\n",
       "    <tr>\n",
       "      <th>6</th>\n",
       "      <td>일통청화공</td>\n",
       "      <td>안중근</td>\n",
       "      <td>1910</td>\n",
       "      <td>40×74cm</td>\n",
       "      <td>서예</td>\n",
       "      <td>비단에 먹</td>\n",
       "      <td>K옥션</td>\n",
       "      <td>2017/04/12</td>\n",
       "      <td>￦290,000,000</td>\n",
       "    </tr>\n",
       "    <tr>\n",
       "      <th>7</th>\n",
       "      <td>안중근선생</td>\n",
       "      <td>임옥상</td>\n",
       "      <td>1997</td>\n",
       "      <td>44.2×45cm</td>\n",
       "      <td>회화</td>\n",
       "      <td>종이부조에 아크릴릭</td>\n",
       "      <td>서울옥션</td>\n",
       "      <td>2017/03/07</td>\n",
       "      <td>￦9,000,000</td>\n",
       "    </tr>\n",
       "  </tbody>\n",
       "</table>\n",
       "</div>"
      ],
      "text/plain": [
       "             title author       year        standard genre   technique  \\\n",
       "0  백자 호(국가안위 노심초사)    안중근             42×19.5×15.5cm    서예          도자   \n",
       "1        승피백운지우제향의    안중근    1910.03      137.7×34cm    서예       종이에 먹   \n",
       "2      안중근 사진 우편엽서    안중근    1910.03          14×9cm    기타      종이에 인쇄   \n",
       "3               묵서    안중근    1910.03       24.5×19cm    서예       종이에 먹   \n",
       "4              세심대    안중근       1910     38.5×73.5cm    서예       비단에 먹   \n",
       "5     휘호(견리사의견위수명)    안중근  1910(경술년)      132×28.5cm    판화         영인본   \n",
       "6            일통청화공    안중근       1910         40×74cm    서예       비단에 먹   \n",
       "7            안중근선생    임옥상       1997       44.2×45cm    회화  종이부조에 아크릴릭   \n",
       "\n",
       "     source        date         price  \n",
       "0  아이옥션 온라인  2021/01/25      ￦100,000  \n",
       "1      서울옥션  2018/12/13  ￦750,000,000  \n",
       "2    마이아트옥션  2018/05/24   ￦20,000,000  \n",
       "3    마이아트옥션  2018/05/24  ￦160,000,000  \n",
       "4       K옥션  2017/12/12  ￦400,000,000  \n",
       "5  아이옥션 온라인  2017/08/08      ￦390,000  \n",
       "6       K옥션  2017/04/12  ￦290,000,000  \n",
       "7      서울옥션  2017/03/07    ￦9,000,000  "
      ]
     },
     "execution_count": 105,
     "metadata": {},
     "output_type": "execute_result"
    }
   ],
   "source": [
    "data = {\"title\": total_title, \"author\" : total_author, \"year\" : total_year, \"standard\" : total_standard,\n",
    "       \"genre\" : total_genre, \"technique\" : total_technique, \"source\" : total_source, \"date\" : total_date, \"price\" : total_price}\n",
    "\n",
    "df = pd.DataFrame(data, columns = [\"title\",\"author\", \"year\", \"standard\", \"genre\", \"technique\", \"source\", \"date\", \"price\"])\n",
    "df"
   ]
  },
  {
   "cell_type": "markdown",
   "metadata": {},
   "source": [
    "### 엑셀로 저장하기"
   ]
  },
  {
   "cell_type": "code",
   "execution_count": 101,
   "metadata": {},
   "outputs": [],
   "source": [
    "df.to_excel(f'./crawling_files/artprice_{search_word}.xlsx', index=False)"
   ]
  },
  {
   "cell_type": "code",
   "execution_count": 1,
   "metadata": {},
   "outputs": [],
   "source": [
    "# 다음주까지 엑셀로 데이터저장"
   ]
  },
  {
   "cell_type": "code",
   "execution_count": null,
   "metadata": {},
   "outputs": [],
   "source": []
  }
 ],
 "metadata": {
  "kernelspec": {
   "display_name": "Python 3",
   "language": "python",
   "name": "python3"
  },
  "language_info": {
   "codemirror_mode": {
    "name": "ipython",
    "version": 3
   },
   "file_extension": ".py",
   "mimetype": "text/x-python",
   "name": "python",
   "nbconvert_exporter": "python",
   "pygments_lexer": "ipython3",
   "version": "3.8.5"
  }
 },
 "nbformat": 4,
 "nbformat_minor": 5
}
