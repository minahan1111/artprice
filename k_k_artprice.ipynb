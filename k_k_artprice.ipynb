{
 "cells": [
  {
   "cell_type": "code",
   "execution_count": 1,
   "id": "37faba4e",
   "metadata": {},
   "outputs": [],
   "source": [
    "#!pip install selenium"
   ]
  },
  {
   "cell_type": "code",
   "execution_count": 28,
   "id": "50f12182",
   "metadata": {},
   "outputs": [],
   "source": [
    "import time\n",
    "import pandas as pd\n",
    "from selenium import webdriver\n",
    "from selenium.webdriver.common.keys import Keys"
   ]
  },
  {
   "cell_type": "code",
   "execution_count": 29,
   "id": "145fc328",
   "metadata": {},
   "outputs": [],
   "source": [
    "import selenium\n",
    "from selenium import webdriver\n",
    "from selenium.webdriver.common.keys import Keys\n",
    "\n",
    "# driver = webdriver.Chrome()"
   ]
  },
  {
   "cell_type": "code",
   "execution_count": 30,
   "id": "9d4a8a8d",
   "metadata": {},
   "outputs": [],
   "source": [
    "from selenium.webdriver.chrome.options import Options"
   ]
  },
  {
   "cell_type": "code",
   "execution_count": 31,
   "id": "cc4608aa",
   "metadata": {},
   "outputs": [],
   "source": [
    "id_ = \"mi_in-ah\"\n",
    "pw_ = \"alsdk5170!\""
   ]
  },
  {
   "cell_type": "code",
   "execution_count": 32,
   "id": "16b05c03",
   "metadata": {},
   "outputs": [
    {
     "name": "stderr",
     "output_type": "stream",
     "text": [
      "C:\\anaconda36\\envs\\pytlesson\\lib\\site-packages\\ipykernel_launcher.py:5: DeprecationWarning: use options instead of chrome_options\n",
      "  \"\"\"\n"
     ]
    }
   ],
   "source": [
    "options = Options()\n",
    "# chrome을 전체화면으로 넓히는 옵션입니다.\n",
    "# options.add_argument('--start-fullscreen')\n",
    "\n",
    "driver = webdriver.Chrome('./chromedriver.exe', chrome_options=options) \n",
    "driver.implicitly_wait(3)"
   ]
  },
  {
   "cell_type": "markdown",
   "id": "d856ef14",
   "metadata": {},
   "source": [
    "## 네이버 보안으로 인해 페이지에서 로그인이 한 번 더 필요"
   ]
  },
  {
   "cell_type": "code",
   "execution_count": 33,
   "id": "1103cd32",
   "metadata": {},
   "outputs": [],
   "source": [
    "driver.get('http://kartprice.net/')\n",
    "\n",
    "\n",
    "driver.find_element_by_css_selector('body > div.pye_wrap > div.pye_header > div.pye_header_m > div > ul > li:nth-child(2) > a').click()\n",
    "time.sleep(3)\n",
    "id_s = driver.find_element_by_xpath('//*[@id=\"id\"]')\n",
    "id_s.send_keys(id_)\n",
    "time.sleep(1)\n",
    "pw_s = driver.find_element_by_xpath('//*[@id=\"pw\"]')\n",
    "pw_s.send_keys(pw_)\n",
    "pw_s.send_keys(Keys.ENTER)"
   ]
  },
  {
   "cell_type": "code",
   "execution_count": 34,
   "id": "f81021c2",
   "metadata": {},
   "outputs": [
    {
     "name": "stdout",
     "output_type": "stream",
     "text": [
      "검색어를 입력해 주세요 : 김환기\n"
     ]
    }
   ],
   "source": [
    "search_word = input(\"검색어를 입력해 주세요 : \")"
   ]
  },
  {
   "cell_type": "code",
   "execution_count": 35,
   "id": "4945da2a",
   "metadata": {
    "scrolled": true
   },
   "outputs": [],
   "source": [
    "#검색할 칸을 찾아\n",
    "search = driver.find_element_by_xpath('//*[@id=\"search_val\"]')\n",
    "search.clear() # 같은 사이트 여러번 크롤링했을 때의 문제 해결위함\n",
    "search.send_keys(search_word)\n",
    "time.sleep(1)\n",
    "search.send_keys(Keys.ENTER) # 엔터키를 눌러 검색 진행"
   ]
  },
  {
   "cell_type": "markdown",
   "id": "d38e72e0",
   "metadata": {},
   "source": [
    "## 페이지 넘기기 오류발생 + 이미지도 크롤링 해야하는지"
   ]
  },
  {
   "cell_type": "markdown",
   "id": "9f375fc7",
   "metadata": {},
   "source": [
    "#### 왜 페이지 오류? -> a href=\"javascript:form_page_submit('1','','');\" -> javascript로 페이지 넘기는 건가"
   ]
  },
  {
   "cell_type": "code",
   "execution_count": 36,
   "id": "a3147efb",
   "metadata": {
    "scrolled": true
   },
   "outputs": [
    {
     "name": "stdout",
     "output_type": "stream",
     "text": [
      "몇 페이지 까지 크롤링 할까요? \n",
      " => 50\n"
     ]
    }
   ],
   "source": [
    "pages = int(input(\"몇 페이지 까지 크롤링 할까요? \\n => \"))"
   ]
  },
  {
   "cell_type": "markdown",
   "id": "23878781",
   "metadata": {},
   "source": [
    "#### 1page는 div:nth-child(9), 2page부터는 div:nth-child(7)"
   ]
  },
  {
   "cell_type": "markdown",
   "id": "7caef036",
   "metadata": {},
   "source": [
    "### 마지막페이지 크롤링이 안됨"
   ]
  },
  {
   "cell_type": "code",
   "execution_count": 37,
   "id": "a0ba5f39",
   "metadata": {},
   "outputs": [
    {
     "name": "stdout",
     "output_type": "stream",
     "text": [
      "1/50 크롤링 완료...현재까지 모인 데이터의 양 : 9\n",
      "2/50 크롤링 완료...현재까지 모인 데이터의 양 : 19\n",
      "3/50 크롤링 완료...현재까지 모인 데이터의 양 : 29\n",
      "4/50 크롤링 완료...현재까지 모인 데이터의 양 : 39\n",
      "5/50 크롤링 완료...현재까지 모인 데이터의 양 : 49\n",
      "6/50 크롤링 완료...현재까지 모인 데이터의 양 : 59\n",
      "7/50 크롤링 완료...현재까지 모인 데이터의 양 : 69\n",
      "8/50 크롤링 완료...현재까지 모인 데이터의 양 : 79\n",
      "9/50 크롤링 완료...현재까지 모인 데이터의 양 : 89\n",
      "10/50 크롤링 완료...현재까지 모인 데이터의 양 : 99\n",
      "11/50 크롤링 완료...현재까지 모인 데이터의 양 : 109\n",
      "12/50 크롤링 완료...현재까지 모인 데이터의 양 : 119\n",
      "13/50 크롤링 완료...현재까지 모인 데이터의 양 : 129\n",
      "14/50 크롤링 완료...현재까지 모인 데이터의 양 : 139\n",
      "15/50 크롤링 완료...현재까지 모인 데이터의 양 : 149\n",
      "16/50 크롤링 완료...현재까지 모인 데이터의 양 : 159\n",
      "17/50 크롤링 완료...현재까지 모인 데이터의 양 : 169\n",
      "18/50 크롤링 완료...현재까지 모인 데이터의 양 : 179\n",
      "19/50 크롤링 완료...현재까지 모인 데이터의 양 : 189\n",
      "20/50 크롤링 완료...현재까지 모인 데이터의 양 : 199\n",
      "21/50 크롤링 완료...현재까지 모인 데이터의 양 : 209\n",
      "22/50 크롤링 완료...현재까지 모인 데이터의 양 : 219\n",
      "23/50 크롤링 완료...현재까지 모인 데이터의 양 : 229\n",
      "24/50 크롤링 완료...현재까지 모인 데이터의 양 : 239\n",
      "25/50 크롤링 완료...현재까지 모인 데이터의 양 : 249\n",
      "26/50 크롤링 완료...현재까지 모인 데이터의 양 : 259\n",
      "27/50 크롤링 완료...현재까지 모인 데이터의 양 : 269\n",
      "28/50 크롤링 완료...현재까지 모인 데이터의 양 : 279\n",
      "29/50 크롤링 완료...현재까지 모인 데이터의 양 : 289\n",
      "30/50 크롤링 완료...현재까지 모인 데이터의 양 : 299\n",
      "31/50 크롤링 완료...현재까지 모인 데이터의 양 : 309\n",
      "32/50 크롤링 완료...현재까지 모인 데이터의 양 : 319\n",
      "33/50 크롤링 완료...현재까지 모인 데이터의 양 : 329\n",
      "34/50 크롤링 완료...현재까지 모인 데이터의 양 : 339\n",
      "35/50 크롤링 완료...현재까지 모인 데이터의 양 : 349\n",
      "36/50 크롤링 완료...현재까지 모인 데이터의 양 : 359\n",
      "37/50 크롤링 완료...현재까지 모인 데이터의 양 : 369\n",
      "38/50 크롤링 완료...현재까지 모인 데이터의 양 : 379\n",
      "39/50 크롤링 완료...현재까지 모인 데이터의 양 : 389\n",
      "40/50 크롤링 완료...현재까지 모인 데이터의 양 : 399\n",
      "41/50 크롤링 완료...현재까지 모인 데이터의 양 : 409\n",
      "42/50 크롤링 완료...현재까지 모인 데이터의 양 : 419\n",
      "43/50 크롤링 완료...현재까지 모인 데이터의 양 : 429\n",
      "44/50 크롤링 완료...현재까지 모인 데이터의 양 : 439\n",
      "45/50 크롤링 완료...현재까지 모인 데이터의 양 : 449\n",
      "46/50 크롤링 완료...현재까지 모인 데이터의 양 : 459\n",
      "47/50 크롤링 완료...현재까지 모인 데이터의 양 : 469\n",
      "48/50 크롤링 완료...현재까지 모인 데이터의 양 : 479\n",
      "49/50 크롤링 완료...현재까지 모인 데이터의 양 : 489\n"
     ]
    },
    {
     "ename": "NoSuchElementException",
     "evalue": "Message: no such element: Unable to locate element: {\"method\":\"css selector\",\"selector\":\"body > div.pye_wrap > div:nth-child(7) > div > div > table > thead > tr:nth-child(11) > td.title > p\"}\n  (Session info: chrome=95.0.4638.69)\n",
     "output_type": "error",
     "traceback": [
      "\u001b[1;31m---------------------------------------------------------------------------\u001b[0m",
      "\u001b[1;31mNoSuchElementException\u001b[0m                    Traceback (most recent call last)",
      "\u001b[1;32m<ipython-input-37-15cb9482c3b7>\u001b[0m in \u001b[0;36m<module>\u001b[1;34m\u001b[0m\n\u001b[0;32m     18\u001b[0m         \u001b[1;31m# 작품명\u001b[0m\u001b[1;33m\u001b[0m\u001b[1;33m\u001b[0m\u001b[1;33m\u001b[0m\u001b[0m\n\u001b[0;32m     19\u001b[0m         title = driver.find_element_by_css_selector(\n\u001b[1;32m---> 20\u001b[1;33m                 f\"body > div.pye_wrap > div:nth-child({child_param}) > div > div > table > thead > tr:nth-child({i}) > td.title > p\")\n\u001b[0m\u001b[0;32m     21\u001b[0m         \u001b[1;31m#작가명\u001b[0m\u001b[1;33m\u001b[0m\u001b[1;33m\u001b[0m\u001b[1;33m\u001b[0m\u001b[0m\n\u001b[0;32m     22\u001b[0m         author = driver.find_element_by_css_selector(\n",
      "\u001b[1;32mC:\\anaconda36\\envs\\pytlesson\\lib\\site-packages\\selenium\\webdriver\\remote\\webdriver.py\u001b[0m in \u001b[0;36mfind_element_by_css_selector\u001b[1;34m(self, css_selector)\u001b[0m\n\u001b[0;32m    596\u001b[0m             \u001b[0melement\u001b[0m \u001b[1;33m=\u001b[0m \u001b[0mdriver\u001b[0m\u001b[1;33m.\u001b[0m\u001b[0mfind_element_by_css_selector\u001b[0m\u001b[1;33m(\u001b[0m\u001b[1;34m'#foo'\u001b[0m\u001b[1;33m)\u001b[0m\u001b[1;33m\u001b[0m\u001b[1;33m\u001b[0m\u001b[0m\n\u001b[0;32m    597\u001b[0m         \"\"\"\n\u001b[1;32m--> 598\u001b[1;33m         \u001b[1;32mreturn\u001b[0m \u001b[0mself\u001b[0m\u001b[1;33m.\u001b[0m\u001b[0mfind_element\u001b[0m\u001b[1;33m(\u001b[0m\u001b[0mby\u001b[0m\u001b[1;33m=\u001b[0m\u001b[0mBy\u001b[0m\u001b[1;33m.\u001b[0m\u001b[0mCSS_SELECTOR\u001b[0m\u001b[1;33m,\u001b[0m \u001b[0mvalue\u001b[0m\u001b[1;33m=\u001b[0m\u001b[0mcss_selector\u001b[0m\u001b[1;33m)\u001b[0m\u001b[1;33m\u001b[0m\u001b[1;33m\u001b[0m\u001b[0m\n\u001b[0m\u001b[0;32m    599\u001b[0m \u001b[1;33m\u001b[0m\u001b[0m\n\u001b[0;32m    600\u001b[0m     \u001b[1;32mdef\u001b[0m \u001b[0mfind_elements_by_css_selector\u001b[0m\u001b[1;33m(\u001b[0m\u001b[0mself\u001b[0m\u001b[1;33m,\u001b[0m \u001b[0mcss_selector\u001b[0m\u001b[1;33m)\u001b[0m\u001b[1;33m:\u001b[0m\u001b[1;33m\u001b[0m\u001b[1;33m\u001b[0m\u001b[0m\n",
      "\u001b[1;32mC:\\anaconda36\\envs\\pytlesson\\lib\\site-packages\\selenium\\webdriver\\remote\\webdriver.py\u001b[0m in \u001b[0;36mfind_element\u001b[1;34m(self, by, value)\u001b[0m\n\u001b[0;32m    976\u001b[0m         return self.execute(Command.FIND_ELEMENT, {\n\u001b[0;32m    977\u001b[0m             \u001b[1;34m'using'\u001b[0m\u001b[1;33m:\u001b[0m \u001b[0mby\u001b[0m\u001b[1;33m,\u001b[0m\u001b[1;33m\u001b[0m\u001b[1;33m\u001b[0m\u001b[0m\n\u001b[1;32m--> 978\u001b[1;33m             'value': value})['value']\n\u001b[0m\u001b[0;32m    979\u001b[0m \u001b[1;33m\u001b[0m\u001b[0m\n\u001b[0;32m    980\u001b[0m     \u001b[1;32mdef\u001b[0m \u001b[0mfind_elements\u001b[0m\u001b[1;33m(\u001b[0m\u001b[0mself\u001b[0m\u001b[1;33m,\u001b[0m \u001b[0mby\u001b[0m\u001b[1;33m=\u001b[0m\u001b[0mBy\u001b[0m\u001b[1;33m.\u001b[0m\u001b[0mID\u001b[0m\u001b[1;33m,\u001b[0m \u001b[0mvalue\u001b[0m\u001b[1;33m=\u001b[0m\u001b[1;32mNone\u001b[0m\u001b[1;33m)\u001b[0m\u001b[1;33m:\u001b[0m\u001b[1;33m\u001b[0m\u001b[1;33m\u001b[0m\u001b[0m\n",
      "\u001b[1;32mC:\\anaconda36\\envs\\pytlesson\\lib\\site-packages\\selenium\\webdriver\\remote\\webdriver.py\u001b[0m in \u001b[0;36mexecute\u001b[1;34m(self, driver_command, params)\u001b[0m\n\u001b[0;32m    319\u001b[0m         \u001b[0mresponse\u001b[0m \u001b[1;33m=\u001b[0m \u001b[0mself\u001b[0m\u001b[1;33m.\u001b[0m\u001b[0mcommand_executor\u001b[0m\u001b[1;33m.\u001b[0m\u001b[0mexecute\u001b[0m\u001b[1;33m(\u001b[0m\u001b[0mdriver_command\u001b[0m\u001b[1;33m,\u001b[0m \u001b[0mparams\u001b[0m\u001b[1;33m)\u001b[0m\u001b[1;33m\u001b[0m\u001b[1;33m\u001b[0m\u001b[0m\n\u001b[0;32m    320\u001b[0m         \u001b[1;32mif\u001b[0m \u001b[0mresponse\u001b[0m\u001b[1;33m:\u001b[0m\u001b[1;33m\u001b[0m\u001b[1;33m\u001b[0m\u001b[0m\n\u001b[1;32m--> 321\u001b[1;33m             \u001b[0mself\u001b[0m\u001b[1;33m.\u001b[0m\u001b[0merror_handler\u001b[0m\u001b[1;33m.\u001b[0m\u001b[0mcheck_response\u001b[0m\u001b[1;33m(\u001b[0m\u001b[0mresponse\u001b[0m\u001b[1;33m)\u001b[0m\u001b[1;33m\u001b[0m\u001b[1;33m\u001b[0m\u001b[0m\n\u001b[0m\u001b[0;32m    322\u001b[0m             response['value'] = self._unwrap_value(\n\u001b[0;32m    323\u001b[0m                 response.get('value', None))\n",
      "\u001b[1;32mC:\\anaconda36\\envs\\pytlesson\\lib\\site-packages\\selenium\\webdriver\\remote\\errorhandler.py\u001b[0m in \u001b[0;36mcheck_response\u001b[1;34m(self, response)\u001b[0m\n\u001b[0;32m    240\u001b[0m                 \u001b[0malert_text\u001b[0m \u001b[1;33m=\u001b[0m \u001b[0mvalue\u001b[0m\u001b[1;33m[\u001b[0m\u001b[1;34m'alert'\u001b[0m\u001b[1;33m]\u001b[0m\u001b[1;33m.\u001b[0m\u001b[0mget\u001b[0m\u001b[1;33m(\u001b[0m\u001b[1;34m'text'\u001b[0m\u001b[1;33m)\u001b[0m\u001b[1;33m\u001b[0m\u001b[1;33m\u001b[0m\u001b[0m\n\u001b[0;32m    241\u001b[0m             \u001b[1;32mraise\u001b[0m \u001b[0mexception_class\u001b[0m\u001b[1;33m(\u001b[0m\u001b[0mmessage\u001b[0m\u001b[1;33m,\u001b[0m \u001b[0mscreen\u001b[0m\u001b[1;33m,\u001b[0m \u001b[0mstacktrace\u001b[0m\u001b[1;33m,\u001b[0m \u001b[0malert_text\u001b[0m\u001b[1;33m)\u001b[0m\u001b[1;33m\u001b[0m\u001b[1;33m\u001b[0m\u001b[0m\n\u001b[1;32m--> 242\u001b[1;33m         \u001b[1;32mraise\u001b[0m \u001b[0mexception_class\u001b[0m\u001b[1;33m(\u001b[0m\u001b[0mmessage\u001b[0m\u001b[1;33m,\u001b[0m \u001b[0mscreen\u001b[0m\u001b[1;33m,\u001b[0m \u001b[0mstacktrace\u001b[0m\u001b[1;33m)\u001b[0m\u001b[1;33m\u001b[0m\u001b[1;33m\u001b[0m\u001b[0m\n\u001b[0m\u001b[0;32m    243\u001b[0m \u001b[1;33m\u001b[0m\u001b[0m\n\u001b[0;32m    244\u001b[0m     \u001b[1;32mdef\u001b[0m \u001b[0m_value_or_default\u001b[0m\u001b[1;33m(\u001b[0m\u001b[0mself\u001b[0m\u001b[1;33m,\u001b[0m \u001b[0mobj\u001b[0m\u001b[1;33m,\u001b[0m \u001b[0mkey\u001b[0m\u001b[1;33m,\u001b[0m \u001b[0mdefault\u001b[0m\u001b[1;33m)\u001b[0m\u001b[1;33m:\u001b[0m\u001b[1;33m\u001b[0m\u001b[1;33m\u001b[0m\u001b[0m\n",
      "\u001b[1;31mNoSuchElementException\u001b[0m: Message: no such element: Unable to locate element: {\"method\":\"css selector\",\"selector\":\"body > div.pye_wrap > div:nth-child(7) > div > div > table > thead > tr:nth-child(11) > td.title > p\"}\n  (Session info: chrome=95.0.4638.69)\n"
     ]
    }
   ],
   "source": [
    "total_title = []\n",
    "total_author = []\n",
    "total_year = []\n",
    "total_standard = []\n",
    "total_genre = []\n",
    "total_technique = []\n",
    "total_source = []\n",
    "total_date = []\n",
    "total_price = []\n",
    "j=1\n",
    "\n",
    "for j in range(j, pages+1):\n",
    "    for i in range(2, 12):  ## 게시물 10개 크롤링\n",
    "        if len(total_price)<9:\n",
    "            child_param = 9\n",
    "        else:\n",
    "            child_param = 7\n",
    "        # 작품명\n",
    "        title = driver.find_element_by_css_selector(\n",
    "                f\"body > div.pye_wrap > div:nth-child({child_param}) > div > div > table > thead > tr:nth-child({i}) > td.title > p\")\n",
    "        #작가명\n",
    "        author = driver.find_element_by_css_selector(\n",
    "                f\"body > div.pye_wrap > div:nth-child({child_param}) > div > div > table > thead > tr:nth-child({i}) > td.name > p\")\n",
    "        # 제작년도\n",
    "        year = driver.find_element_by_css_selector(\n",
    "                f\"body > div.pye_wrap > div:nth-child({child_param}) > div > div > table > thead > tr:nth-child({i}) > td:nth-child(5) > p:nth-child(1)\")\n",
    "        # 규격\n",
    "        standard = driver.find_element_by_css_selector(\n",
    "                f\"body > div.pye_wrap > div:nth-child({child_param}) > div > div > table > thead > tr:nth-child({i}) > td:nth-child(5) > p.txt_slice2\")\n",
    "        # 장르\n",
    "        genre = driver.find_element_by_css_selector(\n",
    "                f\"body > div.pye_wrap > div:nth-child({child_param}) > div > div > table > thead > tr:nth-child({i}) > td:nth-child(6) > p:nth-child(1)\")\n",
    "        # 기법\n",
    "        technique = driver.find_element_by_css_selector(\n",
    "                f\"body > div.pye_wrap > div:nth-child({child_param}) > div > div > table > thead > tr:nth-child({i}) > td:nth-child(6) > p.txt_slice2\") \n",
    "        # 출품처\n",
    "        source = driver.find_element_by_css_selector(\n",
    "                f\"body > div.pye_wrap > div:nth-child({child_param}) > div > div > table > thead > tr:nth-child({i}) > td:nth-child(7) > p.txt_slice2\")\n",
    "        # 거래일\n",
    "        date = driver.find_element_by_css_selector(\n",
    "                f\"body > div.pye_wrap > div:nth-child({child_param}) > div > div > table > thead > tr:nth-child({i}) > td:nth-child(7) > p:nth-child(2)\")\n",
    "        # 낙찰가격\n",
    "        price = driver.find_element_by_css_selector(\n",
    "                f\"body > div.pye_wrap > div:nth-child({child_param}) > div > div > table > thead > tr:nth-child({i}) > td.money\")\n",
    "\n",
    "        time.sleep(1)\n",
    "        total_title.append(title.text)\n",
    "        total_author.append(author.text)\n",
    "        total_year.append(year.text)\n",
    "        total_standard.append(standard.text)\n",
    "        total_genre.append(genre.text)\n",
    "        total_technique.append(technique.text)\n",
    "        total_source.append(source.text)\n",
    "        total_date.append(date.text)\n",
    "        total_price.append(price.text)\n",
    "        \n",
    "        \n",
    "        if i%10==0:\n",
    "            print(f\"{j}/{pages} 크롤링 완료...현재까지 모인 데이터의 양 : {len(total_title)}\")\n",
    "            #paging_t1 > span > a:nth-child(2) => 눌러서 다음페이지로 넘어가는 거\n",
    "            #if 문으로\n",
    "            driver.find_element_by_css_selector(\n",
    "               \"#paging_t1 > button.next\").click()\n",
    "            time.sleep(2)\n",
    "        "
   ]
  },
  {
   "cell_type": "code",
   "execution_count": 38,
   "id": "8a60498e",
   "metadata": {},
   "outputs": [
    {
     "data": {
      "text/html": [
       "<div>\n",
       "<style scoped>\n",
       "    .dataframe tbody tr th:only-of-type {\n",
       "        vertical-align: middle;\n",
       "    }\n",
       "\n",
       "    .dataframe tbody tr th {\n",
       "        vertical-align: top;\n",
       "    }\n",
       "\n",
       "    .dataframe thead th {\n",
       "        text-align: right;\n",
       "    }\n",
       "</style>\n",
       "<table border=\"1\" class=\"dataframe\">\n",
       "  <thead>\n",
       "    <tr style=\"text-align: right;\">\n",
       "      <th></th>\n",
       "      <th>title</th>\n",
       "      <th>author</th>\n",
       "      <th>year</th>\n",
       "      <th>standard</th>\n",
       "      <th>genre</th>\n",
       "      <th>technique</th>\n",
       "      <th>source</th>\n",
       "      <th>date</th>\n",
       "      <th>price</th>\n",
       "    </tr>\n",
       "  </thead>\n",
       "  <tbody>\n",
       "    <tr>\n",
       "      <th>0</th>\n",
       "      <td>Duet</td>\n",
       "      <td>김환기</td>\n",
       "      <td></td>\n",
       "      <td>79.5×56.7cm</td>\n",
       "      <td>판화</td>\n",
       "      <td>오프셋 프린트, 스크린 프린트(사후판화)</td>\n",
       "      <td>아트데이옥션 온라인</td>\n",
       "      <td>2021/06/30</td>\n",
       "      <td>￦900,000</td>\n",
       "    </tr>\n",
       "    <tr>\n",
       "      <th>1</th>\n",
       "      <td>27-VIII-70 #186</td>\n",
       "      <td>김환기</td>\n",
       "      <td>2015</td>\n",
       "      <td>100×72.7cm</td>\n",
       "      <td>판화</td>\n",
       "      <td>피그먼트 프린트, 디아섹</td>\n",
       "      <td>서울옥션 온라인</td>\n",
       "      <td>2021/06/23</td>\n",
       "      <td>￦850,000</td>\n",
       "    </tr>\n",
       "    <tr>\n",
       "      <th>2</th>\n",
       "      <td>무제</td>\n",
       "      <td>김환기</td>\n",
       "      <td>1969</td>\n",
       "      <td>120.5×85.5cm</td>\n",
       "      <td>회화</td>\n",
       "      <td>코튼에 유채</td>\n",
       "      <td>K옥션</td>\n",
       "      <td>2021/06/23</td>\n",
       "      <td>￦680,000,000</td>\n",
       "    </tr>\n",
       "    <tr>\n",
       "      <th>3</th>\n",
       "      <td>27-XI-71 #211</td>\n",
       "      <td>김환기</td>\n",
       "      <td>1971</td>\n",
       "      <td>176.3×126.3cm</td>\n",
       "      <td>회화</td>\n",
       "      <td>면에 유채</td>\n",
       "      <td>서울옥션</td>\n",
       "      <td>2021/06/22</td>\n",
       "      <td>￦3,050,000,000</td>\n",
       "    </tr>\n",
       "    <tr>\n",
       "      <th>4</th>\n",
       "      <td>25-Ⅰ-68 Ⅳ</td>\n",
       "      <td>김환기</td>\n",
       "      <td>1968</td>\n",
       "      <td>58×37.4cm</td>\n",
       "      <td>회화</td>\n",
       "      <td>신문에 유채</td>\n",
       "      <td>서울옥션</td>\n",
       "      <td>2021/06/22</td>\n",
       "      <td>￦72,000,000</td>\n",
       "    </tr>\n",
       "    <tr>\n",
       "      <th>...</th>\n",
       "      <td>...</td>\n",
       "      <td>...</td>\n",
       "      <td>...</td>\n",
       "      <td>...</td>\n",
       "      <td>...</td>\n",
       "      <td>...</td>\n",
       "      <td>...</td>\n",
       "      <td>...</td>\n",
       "      <td>...</td>\n",
       "    </tr>\n",
       "    <tr>\n",
       "      <th>484</th>\n",
       "      <td>무제</td>\n",
       "      <td>김환기</td>\n",
       "      <td>1965~66</td>\n",
       "      <td>24.5×18.5cm</td>\n",
       "      <td>회화</td>\n",
       "      <td>종이에 과슈</td>\n",
       "      <td>K옥션</td>\n",
       "      <td>2016/12/13</td>\n",
       "      <td>￦50,000,000</td>\n",
       "    </tr>\n",
       "    <tr>\n",
       "      <th>485</th>\n",
       "      <td>무제</td>\n",
       "      <td>김환기</td>\n",
       "      <td>1954</td>\n",
       "      <td>17.5×25cm</td>\n",
       "      <td>회화</td>\n",
       "      <td>종이에 펜, 수채</td>\n",
       "      <td>K옥션</td>\n",
       "      <td>2016/12/13</td>\n",
       "      <td>￦19,000,000</td>\n",
       "    </tr>\n",
       "    <tr>\n",
       "      <th>486</th>\n",
       "      <td>무제</td>\n",
       "      <td>김환기</td>\n",
       "      <td>1954</td>\n",
       "      <td>28.6×22.7cm</td>\n",
       "      <td>회화</td>\n",
       "      <td>종이에 사인펜, 볼펜</td>\n",
       "      <td>K옥션</td>\n",
       "      <td>2016/12/13</td>\n",
       "      <td>￦11,500,000</td>\n",
       "    </tr>\n",
       "    <tr>\n",
       "      <th>487</th>\n",
       "      <td>Echo</td>\n",
       "      <td>김환기</td>\n",
       "      <td>1965</td>\n",
       "      <td>208×156cm</td>\n",
       "      <td>회화</td>\n",
       "      <td>캔버스에 유채</td>\n",
       "      <td>K옥션</td>\n",
       "      <td>2016/12/13</td>\n",
       "      <td>￦1,450,000,000</td>\n",
       "    </tr>\n",
       "    <tr>\n",
       "      <th>488</th>\n",
       "      <td>무제 12-Ⅴ-70 #172</td>\n",
       "      <td>김환기</td>\n",
       "      <td>1965</td>\n",
       "      <td>80.5×59.5cm</td>\n",
       "      <td>판화</td>\n",
       "      <td>오프셋 석판화(사후판화)</td>\n",
       "      <td>K옥션 온라인</td>\n",
       "      <td>2016/12/06</td>\n",
       "      <td>￦950,000</td>\n",
       "    </tr>\n",
       "  </tbody>\n",
       "</table>\n",
       "<p>489 rows × 9 columns</p>\n",
       "</div>"
      ],
      "text/plain": [
       "               title author     year       standard genre  \\\n",
       "0               Duet    김환기             79.5×56.7cm    판화   \n",
       "1    27-VIII-70 #186    김환기     2015     100×72.7cm    판화   \n",
       "2                 무제    김환기     1969   120.5×85.5cm    회화   \n",
       "3      27-XI-71 #211    김환기     1971  176.3×126.3cm    회화   \n",
       "4          25-Ⅰ-68 Ⅳ    김환기     1968      58×37.4cm    회화   \n",
       "..               ...    ...      ...            ...   ...   \n",
       "484               무제    김환기  1965~66    24.5×18.5cm    회화   \n",
       "485               무제    김환기     1954      17.5×25cm    회화   \n",
       "486               무제    김환기     1954    28.6×22.7cm    회화   \n",
       "487             Echo    김환기     1965      208×156cm    회화   \n",
       "488  무제 12-Ⅴ-70 #172    김환기     1965    80.5×59.5cm    판화   \n",
       "\n",
       "                  technique      source        date           price  \n",
       "0    오프셋 프린트, 스크린 프린트(사후판화)  아트데이옥션 온라인  2021/06/30        ￦900,000  \n",
       "1             피그먼트 프린트, 디아섹    서울옥션 온라인  2021/06/23        ￦850,000  \n",
       "2                    코튼에 유채         K옥션  2021/06/23    ￦680,000,000  \n",
       "3                     면에 유채        서울옥션  2021/06/22  ￦3,050,000,000  \n",
       "4                    신문에 유채        서울옥션  2021/06/22     ￦72,000,000  \n",
       "..                      ...         ...         ...             ...  \n",
       "484                  종이에 과슈         K옥션  2016/12/13     ￦50,000,000  \n",
       "485               종이에 펜, 수채         K옥션  2016/12/13     ￦19,000,000  \n",
       "486             종이에 사인펜, 볼펜         K옥션  2016/12/13     ￦11,500,000  \n",
       "487                 캔버스에 유채         K옥션  2016/12/13  ￦1,450,000,000  \n",
       "488           오프셋 석판화(사후판화)     K옥션 온라인  2016/12/06        ￦950,000  \n",
       "\n",
       "[489 rows x 9 columns]"
      ]
     },
     "execution_count": 38,
     "metadata": {},
     "output_type": "execute_result"
    }
   ],
   "source": [
    "data = {\"title\": total_title, \"author\" : total_author, \"year\" : total_year, \"standard\" : total_standard,\n",
    "       \"genre\" : total_genre, \"technique\" : total_technique, \"source\" : total_source, \"date\" : total_date, \"price\" : total_price}\n",
    "\n",
    "df = pd.DataFrame(data, columns = [\"title\",\"author\", \"year\", \"standard\", \"genre\", \"technique\", \"source\", \"date\", \"price\"])\n",
    "df"
   ]
  },
  {
   "cell_type": "markdown",
   "id": "945561ce",
   "metadata": {},
   "source": [
    "### 엑셀로 저장하기"
   ]
  },
  {
   "cell_type": "code",
   "execution_count": 15,
   "id": "c430b32a",
   "metadata": {},
   "outputs": [],
   "source": [
    "df.to_excel('artprice.xlsx', index=False)"
   ]
  },
  {
   "cell_type": "code",
   "execution_count": 1,
   "id": "320661a1",
   "metadata": {},
   "outputs": [],
   "source": [
    "# 다음주까지 엑셀로 데이터저장"
   ]
  },
  {
   "cell_type": "code",
   "execution_count": null,
   "id": "d5b63dc0",
   "metadata": {},
   "outputs": [],
   "source": []
  }
 ],
 "metadata": {
  "kernelspec": {
   "display_name": "Python 3",
   "language": "python",
   "name": "python3"
  },
  "language_info": {
   "codemirror_mode": {
    "name": "ipython",
    "version": 3
   },
   "file_extension": ".py",
   "mimetype": "text/x-python",
   "name": "python",
   "nbconvert_exporter": "python",
   "pygments_lexer": "ipython3",
   "version": "3.6.13"
  }
 },
 "nbformat": 4,
 "nbformat_minor": 5
}
