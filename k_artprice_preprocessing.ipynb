{
 "cells": [
  {
   "cell_type": "markdown",
   "metadata": {},
   "source": [
    "- 전처리 어떻게 할까?\n",
    "\n",
    "[ARTPRICE]\n",
    "--> Title : 유지\n",
    "--> Author\n",
    "1. 순서대로 1,2,3,...,29,30 이렇게 붙이면?\n",
    "--> year\n",
    "1. 결측치 있는 것은 어떻게?\n",
    "--> standard(그림크기)\n",
    "1. 가로*세로 곱한 값을 가져와서 '넓이'로 만든다.\n",
    "2. 결측치 있는 것은 drop?\n",
    "--> genre\n",
    "1. 회화 / 판화 / 서예 / 서예-현판 / 입체 / 공예 / 사진-미디어 / 기타 로 구분하여 각각에 0,1,2,3... 식의 값을 부여\n",
    "--> technique\n",
    "1. 요소들이 'AAAA, BBBB, CCCC' 형태로 되어 있는 것들이 많아서 이것들을 다 분리해야 함\n",
    "2. 분리한 이후 각 요소들을 포함하는지의 여부를 one-hot encoding으로 정리\n",
    "3. 결측치 있는 것은 어떻게?\n",
    "--> source\n",
    "1. **옥션, **옥션 온라인으로 구분됨\n",
    "\n",
    "1-1. 각각의 source를 그냥 0,1,2...로 값을 준다.\n",
    "\n",
    "1-2. 온라인 여부를 따로 column을 만들고, K옥션 온라인과 K옥션을 통합하여 전처리한다.\n",
    "\n",
    "--> price\n",
    "1. 원화 표시, 콤마 표시 제거\n",
    "\n",
    "[Economic]\n",
    "- 주가, 비트코인, 유가\n",
    ": 거래 당일날의 가격에 해당하는 종가 가격을 찾아 join\n",
    "- 부동산 가격\n",
    ": 거래 당월에 해당하는 가격상승 값을 찾아 join\n",
    "\n",
    "[Correlation]\n",
    "- 각 요소들과 price와의 상관관계를 linechart, heatmap 등으로 표현하여 시각화\n"
   ]
  },
  {
   "cell_type": "code",
   "execution_count": 2,
   "metadata": {},
   "outputs": [],
   "source": [
    "import pandas as pd\n",
    "import matplotlib.pyplot as plt\n",
    "import seaborn as sns"
   ]
  },
  {
   "cell_type": "code",
   "execution_count": 16,
   "metadata": {},
   "outputs": [
    {
     "data": {
      "text/html": [
       "<div>\n",
       "<style scoped>\n",
       "    .dataframe tbody tr th:only-of-type {\n",
       "        vertical-align: middle;\n",
       "    }\n",
       "\n",
       "    .dataframe tbody tr th {\n",
       "        vertical-align: top;\n",
       "    }\n",
       "\n",
       "    .dataframe thead th {\n",
       "        text-align: right;\n",
       "    }\n",
       "</style>\n",
       "<table border=\"1\" class=\"dataframe\">\n",
       "  <thead>\n",
       "    <tr style=\"text-align: right;\">\n",
       "      <th></th>\n",
       "      <th>title</th>\n",
       "      <th>author</th>\n",
       "      <th>year</th>\n",
       "      <th>standard</th>\n",
       "      <th>genre</th>\n",
       "      <th>technique</th>\n",
       "      <th>source</th>\n",
       "      <th>date</th>\n",
       "      <th>price</th>\n",
       "    </tr>\n",
       "  </thead>\n",
       "  <tbody>\n",
       "    <tr>\n",
       "      <th>0</th>\n",
       "      <td>Duet</td>\n",
       "      <td>김환기</td>\n",
       "      <td>NaN</td>\n",
       "      <td>79.5×56.7cm</td>\n",
       "      <td>판화</td>\n",
       "      <td>오프셋 프린트, 스크린 프린트(사후판화)</td>\n",
       "      <td>아트데이옥션 온라인</td>\n",
       "      <td>2021/06/30</td>\n",
       "      <td>￦900,000</td>\n",
       "    </tr>\n",
       "    <tr>\n",
       "      <th>1</th>\n",
       "      <td>27-VIII-70 #186</td>\n",
       "      <td>김환기</td>\n",
       "      <td>2015</td>\n",
       "      <td>100×72.7cm</td>\n",
       "      <td>판화</td>\n",
       "      <td>피그먼트 프린트, 디아섹</td>\n",
       "      <td>서울옥션 온라인</td>\n",
       "      <td>2021/06/23</td>\n",
       "      <td>￦850,000</td>\n",
       "    </tr>\n",
       "    <tr>\n",
       "      <th>2</th>\n",
       "      <td>무제</td>\n",
       "      <td>김환기</td>\n",
       "      <td>1969</td>\n",
       "      <td>120.5×85.5cm</td>\n",
       "      <td>회화</td>\n",
       "      <td>코튼에 유채</td>\n",
       "      <td>K옥션</td>\n",
       "      <td>2021/06/23</td>\n",
       "      <td>￦680,000,000</td>\n",
       "    </tr>\n",
       "    <tr>\n",
       "      <th>3</th>\n",
       "      <td>27-XI-71 #211</td>\n",
       "      <td>김환기</td>\n",
       "      <td>1971</td>\n",
       "      <td>176.3×126.3cm</td>\n",
       "      <td>회화</td>\n",
       "      <td>면에 유채</td>\n",
       "      <td>서울옥션</td>\n",
       "      <td>2021/06/22</td>\n",
       "      <td>￦3,050,000,000</td>\n",
       "    </tr>\n",
       "    <tr>\n",
       "      <th>4</th>\n",
       "      <td>25-Ⅰ-68 Ⅳ</td>\n",
       "      <td>김환기</td>\n",
       "      <td>1968</td>\n",
       "      <td>58×37.4cm</td>\n",
       "      <td>회화</td>\n",
       "      <td>신문에 유채</td>\n",
       "      <td>서울옥션</td>\n",
       "      <td>2021/06/22</td>\n",
       "      <td>￦72,000,000</td>\n",
       "    </tr>\n",
       "  </tbody>\n",
       "</table>\n",
       "</div>"
      ],
      "text/plain": [
       "             title author  year       standard genre               technique  \\\n",
       "0             Duet    김환기   NaN    79.5×56.7cm    판화  오프셋 프린트, 스크린 프린트(사후판화)   \n",
       "1  27-VIII-70 #186    김환기  2015     100×72.7cm    판화           피그먼트 프린트, 디아섹   \n",
       "2               무제    김환기  1969   120.5×85.5cm    회화                  코튼에 유채   \n",
       "3    27-XI-71 #211    김환기  1971  176.3×126.3cm    회화                   면에 유채   \n",
       "4        25-Ⅰ-68 Ⅳ    김환기  1968      58×37.4cm    회화                  신문에 유채   \n",
       "\n",
       "       source        date           price  \n",
       "0  아트데이옥션 온라인  2021/06/30        ￦900,000  \n",
       "1    서울옥션 온라인  2021/06/23        ￦850,000  \n",
       "2         K옥션  2021/06/23    ￦680,000,000  \n",
       "3        서울옥션  2021/06/22  ￦3,050,000,000  \n",
       "4        서울옥션  2021/06/22     ￦72,000,000  "
      ]
     },
     "execution_count": 16,
     "metadata": {},
     "output_type": "execute_result"
    }
   ],
   "source": [
    "df = pd.read_excel('./crawling_files/artprice_total.xlsx')\n",
    "df.head()"
   ]
  },
  {
   "cell_type": "code",
   "execution_count": 17,
   "metadata": {},
   "outputs": [
    {
     "data": {
      "text/plain": [
       "title           0\n",
       "author          0\n",
       "year         1607\n",
       "standard        3\n",
       "genre           0\n",
       "technique      89\n",
       "source          0\n",
       "date            0\n",
       "price           0\n",
       "dtype: int64"
      ]
     },
     "execution_count": 17,
     "metadata": {},
     "output_type": "execute_result"
    }
   ],
   "source": [
    "df.isnull().sum()"
   ]
  },
  {
   "cell_type": "markdown",
   "metadata": {},
   "source": [
    "# ARTPRICE"
   ]
  },
  {
   "cell_type": "markdown",
   "metadata": {},
   "source": [
    "## Author"
   ]
  },
  {
   "cell_type": "markdown",
   "metadata": {},
   "source": [
    "김환기 : 0, \n",
    "이우환 : 1, \n",
    "박서보 : 2, \n",
    "정상화 : 3, \n",
    "김창열 : 4, \n",
    "박수근 : 5, \n",
    "천경자 : 6, \n",
    "이중섭 : 7, \n",
    "윤형근 : 8, \n",
    "이대원 : 9, \n",
    "유영국 : 10, \n",
    "장욱진 : 11, \n",
    "김종학 : 12, \n",
    "백남준 : 13, \n",
    "오치균 : 14, \n",
    "하종현 : 15, \n",
    "도상봉 : 16, \n",
    "이강소 : 17, \n",
    "이왈종 : 18, \n",
    "정선 : 19, \n",
    "김홍도 : 20, \n",
    "김태호 : 21, \n",
    "이상범 : 22, \n",
    "남관 : 23, \n",
    "이응노 : 24, \n",
    "전광영 : 25, \n",
    "김정희 : 26, \n",
    "서세옥 : 27, \n",
    "이성자 : 28, \n",
    "김기창 : 29"
   ]
  },
  {
   "cell_type": "code",
   "execution_count": 19,
   "metadata": {},
   "outputs": [],
   "source": [
    "df['author'] = df['author'].map({'김환기' : 0, '이우환' : 1, '박서보' : 2, '정상화' : 3, '김창열' : 4, '박수근' : 5, '천경자' : 6, \n",
    "                                        '이중섭' : 7, '윤형근' : 8, '이대원' : 9, '유영국' : 10, '장욱진' : 11, '김종학' : 12, '백남준' : 13, \n",
    "                                        '오치균' : 14, '하종현' : 15, '도상봉' : 16, '이강소' : 17, '이왈종' : 18, '정선' : 19, '김홍도' : 20, \n",
    "                                        '김태호' : 21, '이상범' : 22, '남관' : 23, '이응노' : 24, '전광영' : 25, '김정희' : 26, '서세옥' : 27, \n",
    "                                        '이성자' : 28, '김기창' : 29})\n",
    "df = df.astype({'author':'int'})"
   ]
  },
  {
   "cell_type": "code",
   "execution_count": 20,
   "metadata": {},
   "outputs": [
    {
     "data": {
      "text/html": [
       "<div>\n",
       "<style scoped>\n",
       "    .dataframe tbody tr th:only-of-type {\n",
       "        vertical-align: middle;\n",
       "    }\n",
       "\n",
       "    .dataframe tbody tr th {\n",
       "        vertical-align: top;\n",
       "    }\n",
       "\n",
       "    .dataframe thead th {\n",
       "        text-align: right;\n",
       "    }\n",
       "</style>\n",
       "<table border=\"1\" class=\"dataframe\">\n",
       "  <thead>\n",
       "    <tr style=\"text-align: right;\">\n",
       "      <th></th>\n",
       "      <th>title</th>\n",
       "      <th>author</th>\n",
       "      <th>year</th>\n",
       "      <th>standard</th>\n",
       "      <th>genre</th>\n",
       "      <th>technique</th>\n",
       "      <th>source</th>\n",
       "      <th>date</th>\n",
       "      <th>price</th>\n",
       "    </tr>\n",
       "  </thead>\n",
       "  <tbody>\n",
       "    <tr>\n",
       "      <th>0</th>\n",
       "      <td>Duet</td>\n",
       "      <td>0</td>\n",
       "      <td>NaN</td>\n",
       "      <td>79.5×56.7cm</td>\n",
       "      <td>판화</td>\n",
       "      <td>오프셋 프린트, 스크린 프린트(사후판화)</td>\n",
       "      <td>아트데이옥션 온라인</td>\n",
       "      <td>2021/06/30</td>\n",
       "      <td>￦900,000</td>\n",
       "    </tr>\n",
       "    <tr>\n",
       "      <th>1</th>\n",
       "      <td>27-VIII-70 #186</td>\n",
       "      <td>0</td>\n",
       "      <td>2015</td>\n",
       "      <td>100×72.7cm</td>\n",
       "      <td>판화</td>\n",
       "      <td>피그먼트 프린트, 디아섹</td>\n",
       "      <td>서울옥션 온라인</td>\n",
       "      <td>2021/06/23</td>\n",
       "      <td>￦850,000</td>\n",
       "    </tr>\n",
       "    <tr>\n",
       "      <th>2</th>\n",
       "      <td>무제</td>\n",
       "      <td>0</td>\n",
       "      <td>1969</td>\n",
       "      <td>120.5×85.5cm</td>\n",
       "      <td>회화</td>\n",
       "      <td>코튼에 유채</td>\n",
       "      <td>K옥션</td>\n",
       "      <td>2021/06/23</td>\n",
       "      <td>￦680,000,000</td>\n",
       "    </tr>\n",
       "    <tr>\n",
       "      <th>3</th>\n",
       "      <td>27-XI-71 #211</td>\n",
       "      <td>0</td>\n",
       "      <td>1971</td>\n",
       "      <td>176.3×126.3cm</td>\n",
       "      <td>회화</td>\n",
       "      <td>면에 유채</td>\n",
       "      <td>서울옥션</td>\n",
       "      <td>2021/06/22</td>\n",
       "      <td>￦3,050,000,000</td>\n",
       "    </tr>\n",
       "    <tr>\n",
       "      <th>4</th>\n",
       "      <td>25-Ⅰ-68 Ⅳ</td>\n",
       "      <td>0</td>\n",
       "      <td>1968</td>\n",
       "      <td>58×37.4cm</td>\n",
       "      <td>회화</td>\n",
       "      <td>신문에 유채</td>\n",
       "      <td>서울옥션</td>\n",
       "      <td>2021/06/22</td>\n",
       "      <td>￦72,000,000</td>\n",
       "    </tr>\n",
       "  </tbody>\n",
       "</table>\n",
       "</div>"
      ],
      "text/plain": [
       "             title  author  year       standard genre               technique  \\\n",
       "0             Duet       0   NaN    79.5×56.7cm    판화  오프셋 프린트, 스크린 프린트(사후판화)   \n",
       "1  27-VIII-70 #186       0  2015     100×72.7cm    판화           피그먼트 프린트, 디아섹   \n",
       "2               무제       0  1969   120.5×85.5cm    회화                  코튼에 유채   \n",
       "3    27-XI-71 #211       0  1971  176.3×126.3cm    회화                   면에 유채   \n",
       "4        25-Ⅰ-68 Ⅳ       0  1968      58×37.4cm    회화                  신문에 유채   \n",
       "\n",
       "       source        date           price  \n",
       "0  아트데이옥션 온라인  2021/06/30        ￦900,000  \n",
       "1    서울옥션 온라인  2021/06/23        ￦850,000  \n",
       "2         K옥션  2021/06/23    ￦680,000,000  \n",
       "3        서울옥션  2021/06/22  ￦3,050,000,000  \n",
       "4        서울옥션  2021/06/22     ￦72,000,000  "
      ]
     },
     "execution_count": 20,
     "metadata": {},
     "output_type": "execute_result"
    }
   ],
   "source": [
    "df.head()"
   ]
  },
  {
   "cell_type": "markdown",
   "metadata": {},
   "source": [
    "## Year"
   ]
  },
  {
   "cell_type": "markdown",
   "metadata": {},
   "source": [
    "## Standard\n",
    "\n",
    "가로*세로 곱한 값을 가져와서 '넓이'로 만든다.\n",
    "결측치 있는 것은 drop?"
   ]
  },
  {
   "cell_type": "code",
   "execution_count": 21,
   "metadata": {},
   "outputs": [
    {
     "data": {
      "text/html": [
       "<div>\n",
       "<style scoped>\n",
       "    .dataframe tbody tr th:only-of-type {\n",
       "        vertical-align: middle;\n",
       "    }\n",
       "\n",
       "    .dataframe tbody tr th {\n",
       "        vertical-align: top;\n",
       "    }\n",
       "\n",
       "    .dataframe thead th {\n",
       "        text-align: right;\n",
       "    }\n",
       "</style>\n",
       "<table border=\"1\" class=\"dataframe\">\n",
       "  <thead>\n",
       "    <tr style=\"text-align: right;\">\n",
       "      <th></th>\n",
       "      <th>title</th>\n",
       "      <th>author</th>\n",
       "      <th>year</th>\n",
       "      <th>standard</th>\n",
       "      <th>genre</th>\n",
       "      <th>technique</th>\n",
       "      <th>source</th>\n",
       "      <th>date</th>\n",
       "      <th>price</th>\n",
       "    </tr>\n",
       "  </thead>\n",
       "  <tbody>\n",
       "    <tr>\n",
       "      <th>2980</th>\n",
       "      <td>Burunt Umber &amp; Ultramarine Blue</td>\n",
       "      <td>8</td>\n",
       "      <td>NaN</td>\n",
       "      <td>NaN</td>\n",
       "      <td>회화</td>\n",
       "      <td>NaN</td>\n",
       "      <td>서울옥션 블루</td>\n",
       "      <td>2019/11/21</td>\n",
       "      <td>￦90,000,000</td>\n",
       "    </tr>\n",
       "    <tr>\n",
       "      <th>6168</th>\n",
       "      <td>하경산수</td>\n",
       "      <td>22</td>\n",
       "      <td>NaN</td>\n",
       "      <td>NaN</td>\n",
       "      <td>회화</td>\n",
       "      <td>종이에 수묵담채</td>\n",
       "      <td>마이아트옥션</td>\n",
       "      <td>2021/03/04</td>\n",
       "      <td>￦16,000,000</td>\n",
       "    </tr>\n",
       "    <tr>\n",
       "      <th>7013</th>\n",
       "      <td>고추</td>\n",
       "      <td>24</td>\n",
       "      <td>1979</td>\n",
       "      <td>NaN</td>\n",
       "      <td>회화</td>\n",
       "      <td>종이에 수묵담채</td>\n",
       "      <td>마이아트옥션</td>\n",
       "      <td>2017/05/22</td>\n",
       "      <td>￦9,000,000</td>\n",
       "    </tr>\n",
       "  </tbody>\n",
       "</table>\n",
       "</div>"
      ],
      "text/plain": [
       "                                title  author  year standard genre technique  \\\n",
       "2980  Burunt Umber & Ultramarine Blue       8   NaN      NaN    회화       NaN   \n",
       "6168                             하경산수      22   NaN      NaN    회화  종이에 수묵담채   \n",
       "7013                               고추      24  1979      NaN    회화  종이에 수묵담채   \n",
       "\n",
       "       source        date        price  \n",
       "2980  서울옥션 블루  2019/11/21  ￦90,000,000  \n",
       "6168   마이아트옥션  2021/03/04  ￦16,000,000  \n",
       "7013   마이아트옥션  2017/05/22   ￦9,000,000  "
      ]
     },
     "execution_count": 21,
     "metadata": {},
     "output_type": "execute_result"
    }
   ],
   "source": [
    "df[df['standard'].isnull()]"
   ]
  },
  {
   "cell_type": "markdown",
   "metadata": {},
   "source": [
    "결측치 데이터 3개 있어서 drop함"
   ]
  },
  {
   "cell_type": "code",
   "execution_count": 22,
   "metadata": {},
   "outputs": [
    {
     "data": {
      "text/html": [
       "<div>\n",
       "<style scoped>\n",
       "    .dataframe tbody tr th:only-of-type {\n",
       "        vertical-align: middle;\n",
       "    }\n",
       "\n",
       "    .dataframe tbody tr th {\n",
       "        vertical-align: top;\n",
       "    }\n",
       "\n",
       "    .dataframe thead th {\n",
       "        text-align: right;\n",
       "    }\n",
       "</style>\n",
       "<table border=\"1\" class=\"dataframe\">\n",
       "  <thead>\n",
       "    <tr style=\"text-align: right;\">\n",
       "      <th></th>\n",
       "      <th>title</th>\n",
       "      <th>author</th>\n",
       "      <th>year</th>\n",
       "      <th>standard</th>\n",
       "      <th>genre</th>\n",
       "      <th>technique</th>\n",
       "      <th>source</th>\n",
       "      <th>date</th>\n",
       "      <th>price</th>\n",
       "    </tr>\n",
       "  </thead>\n",
       "  <tbody>\n",
       "  </tbody>\n",
       "</table>\n",
       "</div>"
      ],
      "text/plain": [
       "Empty DataFrame\n",
       "Columns: [title, author, year, standard, genre, technique, source, date, price]\n",
       "Index: []"
      ]
     },
     "execution_count": 22,
     "metadata": {},
     "output_type": "execute_result"
    }
   ],
   "source": [
    "df.dropna(subset=['standard'], inplace=True)\n",
    "df[df['standard'].isnull()]"
   ]
  },
  {
   "cell_type": "markdown",
   "metadata": {},
   "source": [
    "데이터는 대개 다음과 같은 형태로 구성된다.\n",
    "\n",
    "1. {숫자}x{숫자}cm : 대부분\n",
    "2. {숫자}x{숫자}, {숫자}x{숫자}....\n",
    "3. 지름 {숫자}cm\n",
    "4. 지름 {숫자}x{숫자}"
   ]
  },
  {
   "cell_type": "code",
   "execution_count": 23,
   "metadata": {},
   "outputs": [],
   "source": [
    "import re"
   ]
  },
  {
   "cell_type": "code",
   "execution_count": 25,
   "metadata": {},
   "outputs": [],
   "source": [
    "def check_text(text):\n",
    "    standard_reg = re.compile(r'[^x0-9]')\n",
    "    std_reg_bool = standard_reg.search(text) == None\n",
    "    return std_reg_bool"
   ]
  },
  {
   "cell_type": "code",
   "execution_count": 26,
   "metadata": {},
   "outputs": [
    {
     "name": "stdout",
     "output_type": "stream",
     "text": [
      "8956\n"
     ]
    },
    {
     "data": {
      "text/plain": [
       "0       False\n",
       "1       False\n",
       "2       False\n",
       "3       False\n",
       "4       False\n",
       "        ...  \n",
       "8954    False\n",
       "8955    False\n",
       "8956    False\n",
       "8957    False\n",
       "8958    False\n",
       "Name: standard, Length: 8956, dtype: bool"
      ]
     },
     "execution_count": 26,
     "metadata": {},
     "output_type": "execute_result"
    }
   ],
   "source": [
    "cond = df.standard.apply(check_text)\n",
    "print(len(cond) - cond.sum())\n",
    "cond"
   ]
  },
  {
   "cell_type": "code",
   "execution_count": null,
   "metadata": {},
   "outputs": [],
   "source": [
    "df.drop()"
   ]
  },
  {
   "cell_type": "code",
   "execution_count": null,
   "metadata": {},
   "outputs": [],
   "source": [
    "df['width'] = 0\n",
    "for i in range(len(df)):\n",
    "    standard = df['standard'][i]\n",
    "    height = 0\n",
    "    width = 0\n",
    "    df['width'][i] = "
   ]
  }
 ],
 "metadata": {
  "kernelspec": {
   "display_name": "Python 3",
   "language": "python",
   "name": "python3"
  },
  "language_info": {
   "codemirror_mode": {
    "name": "ipython",
    "version": 3
   },
   "file_extension": ".py",
   "mimetype": "text/x-python",
   "name": "python",
   "nbconvert_exporter": "python",
   "pygments_lexer": "ipython3",
   "version": "3.8.5"
  }
 },
 "nbformat": 4,
 "nbformat_minor": 4
}
