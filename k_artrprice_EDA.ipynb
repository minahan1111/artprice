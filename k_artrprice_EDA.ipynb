{
 "cells": [
  {
   "cell_type": "code",
   "execution_count": 1,
   "metadata": {},
   "outputs": [],
   "source": [
    "import numpy as np\n",
    "import pandas as pd\n",
    "import matplotlib.pyplot as plt\n",
    "import seaborn as sns"
   ]
  },
  {
   "cell_type": "code",
   "execution_count": 2,
   "metadata": {},
   "outputs": [
    {
     "data": {
      "text/html": [
       "<div>\n",
       "<style scoped>\n",
       "    .dataframe tbody tr th:only-of-type {\n",
       "        vertical-align: middle;\n",
       "    }\n",
       "\n",
       "    .dataframe tbody tr th {\n",
       "        vertical-align: top;\n",
       "    }\n",
       "\n",
       "    .dataframe thead th {\n",
       "        text-align: right;\n",
       "    }\n",
       "</style>\n",
       "<table border=\"1\" class=\"dataframe\">\n",
       "  <thead>\n",
       "    <tr style=\"text-align: right;\">\n",
       "      <th></th>\n",
       "      <th>title</th>\n",
       "      <th>author</th>\n",
       "      <th>year</th>\n",
       "      <th>standard</th>\n",
       "      <th>genre</th>\n",
       "      <th>technique</th>\n",
       "      <th>source</th>\n",
       "      <th>date</th>\n",
       "      <th>price</th>\n",
       "    </tr>\n",
       "  </thead>\n",
       "  <tbody>\n",
       "    <tr>\n",
       "      <th>0</th>\n",
       "      <td>Duet</td>\n",
       "      <td>김환기</td>\n",
       "      <td>NaN</td>\n",
       "      <td>79.5×56.7cm</td>\n",
       "      <td>판화</td>\n",
       "      <td>오프셋 프린트, 스크린 프린트(사후판화)</td>\n",
       "      <td>아트데이옥션 온라인</td>\n",
       "      <td>2021/06/30</td>\n",
       "      <td>￦900,000</td>\n",
       "    </tr>\n",
       "    <tr>\n",
       "      <th>1</th>\n",
       "      <td>27-VIII-70 #186</td>\n",
       "      <td>김환기</td>\n",
       "      <td>2015</td>\n",
       "      <td>100×72.7cm</td>\n",
       "      <td>판화</td>\n",
       "      <td>피그먼트 프린트, 디아섹</td>\n",
       "      <td>서울옥션 온라인</td>\n",
       "      <td>2021/06/23</td>\n",
       "      <td>￦850,000</td>\n",
       "    </tr>\n",
       "    <tr>\n",
       "      <th>2</th>\n",
       "      <td>무제</td>\n",
       "      <td>김환기</td>\n",
       "      <td>1969</td>\n",
       "      <td>120.5×85.5cm</td>\n",
       "      <td>회화</td>\n",
       "      <td>코튼에 유채</td>\n",
       "      <td>K옥션</td>\n",
       "      <td>2021/06/23</td>\n",
       "      <td>￦680,000,000</td>\n",
       "    </tr>\n",
       "    <tr>\n",
       "      <th>3</th>\n",
       "      <td>27-XI-71 #211</td>\n",
       "      <td>김환기</td>\n",
       "      <td>1971</td>\n",
       "      <td>176.3×126.3cm</td>\n",
       "      <td>회화</td>\n",
       "      <td>면에 유채</td>\n",
       "      <td>서울옥션</td>\n",
       "      <td>2021/06/22</td>\n",
       "      <td>￦3,050,000,000</td>\n",
       "    </tr>\n",
       "    <tr>\n",
       "      <th>4</th>\n",
       "      <td>25-Ⅰ-68 Ⅳ</td>\n",
       "      <td>김환기</td>\n",
       "      <td>1968</td>\n",
       "      <td>58×37.4cm</td>\n",
       "      <td>회화</td>\n",
       "      <td>신문에 유채</td>\n",
       "      <td>서울옥션</td>\n",
       "      <td>2021/06/22</td>\n",
       "      <td>￦72,000,000</td>\n",
       "    </tr>\n",
       "  </tbody>\n",
       "</table>\n",
       "</div>"
      ],
      "text/plain": [
       "             title author  year       standard genre               technique  \\\n",
       "0             Duet    김환기   NaN    79.5×56.7cm    판화  오프셋 프린트, 스크린 프린트(사후판화)   \n",
       "1  27-VIII-70 #186    김환기  2015     100×72.7cm    판화           피그먼트 프린트, 디아섹   \n",
       "2               무제    김환기  1969   120.5×85.5cm    회화                  코튼에 유채   \n",
       "3    27-XI-71 #211    김환기  1971  176.3×126.3cm    회화                   면에 유채   \n",
       "4        25-Ⅰ-68 Ⅳ    김환기  1968      58×37.4cm    회화                  신문에 유채   \n",
       "\n",
       "       source        date           price  \n",
       "0  아트데이옥션 온라인  2021/06/30        ￦900,000  \n",
       "1    서울옥션 온라인  2021/06/23        ￦850,000  \n",
       "2         K옥션  2021/06/23    ￦680,000,000  \n",
       "3        서울옥션  2021/06/22  ￦3,050,000,000  \n",
       "4        서울옥션  2021/06/22     ￦72,000,000  "
      ]
     },
     "execution_count": 2,
     "metadata": {},
     "output_type": "execute_result"
    }
   ],
   "source": [
    "df = pd.read_excel(f'./crawling_files/artprice_total.xlsx')\n",
    "df.head()"
   ]
  },
  {
   "cell_type": "code",
   "execution_count": 3,
   "metadata": {},
   "outputs": [
    {
     "data": {
      "text/plain": [
       "회화        5259\n",
       "판화        3263\n",
       "서예         179\n",
       "서예-현판      121\n",
       "기타          72\n",
       "입체          53\n",
       "공예           6\n",
       "사진/미디어       5\n",
       "공예-도자기       1\n",
       "Name: genre, dtype: int64"
      ]
     },
     "execution_count": 3,
     "metadata": {},
     "output_type": "execute_result"
    }
   ],
   "source": [
    "df['genre'].value_counts()"
   ]
  },
  {
   "cell_type": "code",
   "execution_count": 4,
   "metadata": {},
   "outputs": [
    {
     "data": {
      "text/plain": [
       "석판화                  891\n",
       "오프셋 석판화              847\n",
       "종이에 수묵담채             829\n",
       "캔버스에 유채              587\n",
       "캔버스에 아크릴릭            527\n",
       "                    ... \n",
       "종이에 펜, 유채              1\n",
       "종이에 유채, 종이에 펜, 채색      1\n",
       "종이에 에나멜                1\n",
       "은지화                    1\n",
       "비단에 수묵채색, 금분           1\n",
       "Name: technique, Length: 595, dtype: int64"
      ]
     },
     "execution_count": 4,
     "metadata": {},
     "output_type": "execute_result"
    }
   ],
   "source": [
    "df['technique'].value_counts()"
   ]
  },
  {
   "cell_type": "code",
   "execution_count": 5,
   "metadata": {},
   "outputs": [
    {
     "data": {
      "text/plain": [
       "K옥션 온라인       3358\n",
       "K옥션           1435\n",
       "서울옥션           954\n",
       "아트데이옥션 온라인     734\n",
       "서울옥션 온라인       614\n",
       "에이옥션 온라인       539\n",
       "아이옥션           271\n",
       "서울옥션 홍콩        253\n",
       "서울옥션 블루        197\n",
       "마이아트옥션         152\n",
       "아이옥션 온라인       151\n",
       "아트데이옥션         105\n",
       "칸옥션            105\n",
       "꼬모옥션 온라인        80\n",
       "마이아트옥션 온라인      11\n",
       "Name: source, dtype: int64"
      ]
     },
     "execution_count": 5,
     "metadata": {},
     "output_type": "execute_result"
    }
   ],
   "source": [
    "df['source'].value_counts()"
   ]
  },
  {
   "cell_type": "code",
   "execution_count": 6,
   "metadata": {},
   "outputs": [
    {
     "data": {
      "text/plain": [
       "title           0\n",
       "author          0\n",
       "year         1607\n",
       "standard        3\n",
       "genre           0\n",
       "technique      89\n",
       "source          0\n",
       "date            0\n",
       "price           0\n",
       "dtype: int64"
      ]
     },
     "execution_count": 6,
     "metadata": {},
     "output_type": "execute_result"
    }
   ],
   "source": [
    "df.isnull().sum()"
   ]
  },
  {
   "cell_type": "code",
   "execution_count": null,
   "metadata": {},
   "outputs": [],
   "source": []
  }
 ],
 "metadata": {
  "kernelspec": {
   "display_name": "Python 3",
   "language": "python",
   "name": "python3"
  },
  "language_info": {
   "codemirror_mode": {
    "name": "ipython",
    "version": 3
   },
   "file_extension": ".py",
   "mimetype": "text/x-python",
   "name": "python",
   "nbconvert_exporter": "python",
   "pygments_lexer": "ipython3",
   "version": "3.8.5"
  }
 },
 "nbformat": 4,
 "nbformat_minor": 4
}
