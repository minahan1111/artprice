{
 "cells": [
  {
   "cell_type": "markdown",
   "metadata": {},
   "source": [
    "- 전처리 어떻게 할까?\n",
    "\n",
    "[ARTPRICE]\n",
    "--> Title : 유지\n",
    "--> Author\n",
    "1. 순서대로 1,2,3,...,29,30 이렇게 붙이면?\n",
    "--> year\n",
    "1. 결측치 있는 것은 어떻게?\n",
    "--> standard(그림크기)\n",
    "1. 가로*세로 곱한 값을 가져와서 '넓이'로 만든다.\n",
    "2. 결측치 있는 것은 drop?\n",
    "--> genre\n",
    "1. 회화 / 판화 / 서예 / 서예-현판 / 입체 / 공예 / 사진-미디어 / 기타 로 구분하여 각각에 0,1,2,3... 식의 값을 부여\n",
    "--> technique\n",
    "1. 요소들이 'AAAA, BBBB, CCCC' 형태로 되어 있는 것들이 많아서 이것들을 다 분리해야 함\n",
    "2. 분리한 이후 각 요소들을 포함하는지의 여부를 one-hot encoding으로 정리\n",
    "3. 결측치 있는 것은 어떻게?\n",
    "--> source\n",
    "1. **옥션, **옥션 온라인으로 구분됨\n",
    "\n",
    "1-1. 각각의 source를 그냥 0,1,2...로 값을 준다.\n",
    "\n",
    "1-2. 온라인 여부를 따로 column을 만들고, K옥션 온라인과 K옥션을 통합하여 전처리한다.\n",
    "\n",
    "--> price\n",
    "1. 원화 표시, 콤마 표시 제거\n",
    "\n",
    "[Economic]\n",
    "- 주가, 비트코인, 유가\n",
    ": 거래 당일날의 가격에 해당하는 종가 가격을 찾아 join\n",
    "- 부동산 가격\n",
    ": 거래 당월에 해당하는 가격상승 값을 찾아 join\n",
    "\n",
    "[Correlation]\n",
    "- 각 요소들과 price와의 상관관계를 linechart, heatmap 등으로 표현하여 시각화\n"
   ]
  },
  {
   "cell_type": "code",
   "execution_count": 174,
   "metadata": {},
   "outputs": [],
   "source": [
    "import pandas as pd\n",
    "import matplotlib.pyplot as plt\n",
    "import seaborn as sns"
   ]
  },
  {
   "cell_type": "code",
   "execution_count": 175,
   "metadata": {},
   "outputs": [
    {
     "data": {
      "text/html": [
       "<div>\n",
       "<style scoped>\n",
       "    .dataframe tbody tr th:only-of-type {\n",
       "        vertical-align: middle;\n",
       "    }\n",
       "\n",
       "    .dataframe tbody tr th {\n",
       "        vertical-align: top;\n",
       "    }\n",
       "\n",
       "    .dataframe thead th {\n",
       "        text-align: right;\n",
       "    }\n",
       "</style>\n",
       "<table border=\"1\" class=\"dataframe\">\n",
       "  <thead>\n",
       "    <tr style=\"text-align: right;\">\n",
       "      <th></th>\n",
       "      <th>title</th>\n",
       "      <th>author</th>\n",
       "      <th>year</th>\n",
       "      <th>standard</th>\n",
       "      <th>genre</th>\n",
       "      <th>technique</th>\n",
       "      <th>source</th>\n",
       "      <th>date</th>\n",
       "      <th>price</th>\n",
       "    </tr>\n",
       "  </thead>\n",
       "  <tbody>\n",
       "    <tr>\n",
       "      <th>0</th>\n",
       "      <td>Duet</td>\n",
       "      <td>김환기</td>\n",
       "      <td>NaN</td>\n",
       "      <td>79.5×56.7cm</td>\n",
       "      <td>판화</td>\n",
       "      <td>오프셋 프린트, 스크린 프린트(사후판화)</td>\n",
       "      <td>아트데이옥션 온라인</td>\n",
       "      <td>2021/06/30</td>\n",
       "      <td>￦900,000</td>\n",
       "    </tr>\n",
       "    <tr>\n",
       "      <th>1</th>\n",
       "      <td>27-VIII-70 #186</td>\n",
       "      <td>김환기</td>\n",
       "      <td>2015</td>\n",
       "      <td>100×72.7cm</td>\n",
       "      <td>판화</td>\n",
       "      <td>피그먼트 프린트, 디아섹</td>\n",
       "      <td>서울옥션 온라인</td>\n",
       "      <td>2021/06/23</td>\n",
       "      <td>￦850,000</td>\n",
       "    </tr>\n",
       "    <tr>\n",
       "      <th>2</th>\n",
       "      <td>무제</td>\n",
       "      <td>김환기</td>\n",
       "      <td>1969</td>\n",
       "      <td>120.5×85.5cm</td>\n",
       "      <td>회화</td>\n",
       "      <td>코튼에 유채</td>\n",
       "      <td>K옥션</td>\n",
       "      <td>2021/06/23</td>\n",
       "      <td>￦680,000,000</td>\n",
       "    </tr>\n",
       "    <tr>\n",
       "      <th>3</th>\n",
       "      <td>27-XI-71 #211</td>\n",
       "      <td>김환기</td>\n",
       "      <td>1971</td>\n",
       "      <td>176.3×126.3cm</td>\n",
       "      <td>회화</td>\n",
       "      <td>면에 유채</td>\n",
       "      <td>서울옥션</td>\n",
       "      <td>2021/06/22</td>\n",
       "      <td>￦3,050,000,000</td>\n",
       "    </tr>\n",
       "    <tr>\n",
       "      <th>4</th>\n",
       "      <td>25-Ⅰ-68 Ⅳ</td>\n",
       "      <td>김환기</td>\n",
       "      <td>1968</td>\n",
       "      <td>58×37.4cm</td>\n",
       "      <td>회화</td>\n",
       "      <td>신문에 유채</td>\n",
       "      <td>서울옥션</td>\n",
       "      <td>2021/06/22</td>\n",
       "      <td>￦72,000,000</td>\n",
       "    </tr>\n",
       "  </tbody>\n",
       "</table>\n",
       "</div>"
      ],
      "text/plain": [
       "             title author  year       standard genre               technique  \\\n",
       "0             Duet    김환기   NaN    79.5×56.7cm    판화  오프셋 프린트, 스크린 프린트(사후판화)   \n",
       "1  27-VIII-70 #186    김환기  2015     100×72.7cm    판화           피그먼트 프린트, 디아섹   \n",
       "2               무제    김환기  1969   120.5×85.5cm    회화                  코튼에 유채   \n",
       "3    27-XI-71 #211    김환기  1971  176.3×126.3cm    회화                   면에 유채   \n",
       "4        25-Ⅰ-68 Ⅳ    김환기  1968      58×37.4cm    회화                  신문에 유채   \n",
       "\n",
       "       source        date           price  \n",
       "0  아트데이옥션 온라인  2021/06/30        ￦900,000  \n",
       "1    서울옥션 온라인  2021/06/23        ￦850,000  \n",
       "2         K옥션  2021/06/23    ￦680,000,000  \n",
       "3        서울옥션  2021/06/22  ￦3,050,000,000  \n",
       "4        서울옥션  2021/06/22     ￦72,000,000  "
      ]
     },
     "execution_count": 175,
     "metadata": {},
     "output_type": "execute_result"
    }
   ],
   "source": [
    "df = pd.read_excel('./crawling_files/artprice_total.xlsx', engine='openpyxl')\n",
    "df.head()"
   ]
  },
  {
   "cell_type": "code",
   "execution_count": 176,
   "metadata": {},
   "outputs": [
    {
     "data": {
      "text/plain": [
       "title           0\n",
       "author          0\n",
       "year         1607\n",
       "standard        3\n",
       "genre           0\n",
       "technique      89\n",
       "source          0\n",
       "date            0\n",
       "price           0\n",
       "dtype: int64"
      ]
     },
     "execution_count": 176,
     "metadata": {},
     "output_type": "execute_result"
    }
   ],
   "source": [
    "df.isnull().sum()"
   ]
  },
  {
   "cell_type": "markdown",
   "metadata": {},
   "source": [
    "# ARTPRICE"
   ]
  },
  {
   "cell_type": "markdown",
   "metadata": {},
   "source": [
    "## Author"
   ]
  },
  {
   "cell_type": "markdown",
   "metadata": {},
   "source": [
    "김환기 : 0, \n",
    "이우환 : 1, \n",
    "박서보 : 2, \n",
    "정상화 : 3, \n",
    "김창열 : 4, \n",
    "박수근 : 5, \n",
    "천경자 : 6, \n",
    "이중섭 : 7, \n",
    "윤형근 : 8, \n",
    "이대원 : 9, \n",
    "유영국 : 10, \n",
    "장욱진 : 11, \n",
    "김종학 : 12, \n",
    "백남준 : 13, \n",
    "오치균 : 14, \n",
    "하종현 : 15, \n",
    "도상봉 : 16, \n",
    "이강소 : 17, \n",
    "이왈종 : 18, \n",
    "정선 : 19, \n",
    "김홍도 : 20, \n",
    "김태호 : 21, \n",
    "이상범 : 22, \n",
    "남관 : 23, \n",
    "이응노 : 24, \n",
    "전광영 : 25, \n",
    "김정희 : 26, \n",
    "서세옥 : 27, \n",
    "이성자 : 28, \n",
    "김기창 : 29"
   ]
  },
  {
   "cell_type": "code",
   "execution_count": 177,
   "metadata": {},
   "outputs": [],
   "source": [
    "df['author'] = df['author'].map({'김환기' : 0, '이우환' : 1, '박서보' : 2, '정상화' : 3, '김창열' : 4, '박수근' : 5, '천경자' : 6, \n",
    "                                        '이중섭' : 7, '윤형근' : 8, '이대원' : 9, '유영국' : 10, '장욱진' : 11, '김종학' : 12, '백남준' : 13, \n",
    "                                        '오치균' : 14, '하종현' : 15, '도상봉' : 16, '이강소' : 17, '이왈종' : 18, '정선' : 19, '김홍도' : 20, \n",
    "                                        '김태호' : 21, '이상범' : 22, '남관' : 23, '이응노' : 24, '전광영' : 25, '김정희' : 26, '서세옥' : 27, \n",
    "                                        '이성자' : 28, '김기창' : 29})\n",
    "df = df.astype({'author':'int'})"
   ]
  },
  {
   "cell_type": "code",
   "execution_count": 178,
   "metadata": {},
   "outputs": [
    {
     "data": {
      "text/html": [
       "<div>\n",
       "<style scoped>\n",
       "    .dataframe tbody tr th:only-of-type {\n",
       "        vertical-align: middle;\n",
       "    }\n",
       "\n",
       "    .dataframe tbody tr th {\n",
       "        vertical-align: top;\n",
       "    }\n",
       "\n",
       "    .dataframe thead th {\n",
       "        text-align: right;\n",
       "    }\n",
       "</style>\n",
       "<table border=\"1\" class=\"dataframe\">\n",
       "  <thead>\n",
       "    <tr style=\"text-align: right;\">\n",
       "      <th></th>\n",
       "      <th>title</th>\n",
       "      <th>author</th>\n",
       "      <th>year</th>\n",
       "      <th>standard</th>\n",
       "      <th>genre</th>\n",
       "      <th>technique</th>\n",
       "      <th>source</th>\n",
       "      <th>date</th>\n",
       "      <th>price</th>\n",
       "    </tr>\n",
       "  </thead>\n",
       "  <tbody>\n",
       "    <tr>\n",
       "      <th>0</th>\n",
       "      <td>Duet</td>\n",
       "      <td>0</td>\n",
       "      <td>NaN</td>\n",
       "      <td>79.5×56.7cm</td>\n",
       "      <td>판화</td>\n",
       "      <td>오프셋 프린트, 스크린 프린트(사후판화)</td>\n",
       "      <td>아트데이옥션 온라인</td>\n",
       "      <td>2021/06/30</td>\n",
       "      <td>￦900,000</td>\n",
       "    </tr>\n",
       "    <tr>\n",
       "      <th>1</th>\n",
       "      <td>27-VIII-70 #186</td>\n",
       "      <td>0</td>\n",
       "      <td>2015</td>\n",
       "      <td>100×72.7cm</td>\n",
       "      <td>판화</td>\n",
       "      <td>피그먼트 프린트, 디아섹</td>\n",
       "      <td>서울옥션 온라인</td>\n",
       "      <td>2021/06/23</td>\n",
       "      <td>￦850,000</td>\n",
       "    </tr>\n",
       "    <tr>\n",
       "      <th>2</th>\n",
       "      <td>무제</td>\n",
       "      <td>0</td>\n",
       "      <td>1969</td>\n",
       "      <td>120.5×85.5cm</td>\n",
       "      <td>회화</td>\n",
       "      <td>코튼에 유채</td>\n",
       "      <td>K옥션</td>\n",
       "      <td>2021/06/23</td>\n",
       "      <td>￦680,000,000</td>\n",
       "    </tr>\n",
       "    <tr>\n",
       "      <th>3</th>\n",
       "      <td>27-XI-71 #211</td>\n",
       "      <td>0</td>\n",
       "      <td>1971</td>\n",
       "      <td>176.3×126.3cm</td>\n",
       "      <td>회화</td>\n",
       "      <td>면에 유채</td>\n",
       "      <td>서울옥션</td>\n",
       "      <td>2021/06/22</td>\n",
       "      <td>￦3,050,000,000</td>\n",
       "    </tr>\n",
       "    <tr>\n",
       "      <th>4</th>\n",
       "      <td>25-Ⅰ-68 Ⅳ</td>\n",
       "      <td>0</td>\n",
       "      <td>1968</td>\n",
       "      <td>58×37.4cm</td>\n",
       "      <td>회화</td>\n",
       "      <td>신문에 유채</td>\n",
       "      <td>서울옥션</td>\n",
       "      <td>2021/06/22</td>\n",
       "      <td>￦72,000,000</td>\n",
       "    </tr>\n",
       "  </tbody>\n",
       "</table>\n",
       "</div>"
      ],
      "text/plain": [
       "             title  author  year       standard genre               technique  \\\n",
       "0             Duet       0   NaN    79.5×56.7cm    판화  오프셋 프린트, 스크린 프린트(사후판화)   \n",
       "1  27-VIII-70 #186       0  2015     100×72.7cm    판화           피그먼트 프린트, 디아섹   \n",
       "2               무제       0  1969   120.5×85.5cm    회화                  코튼에 유채   \n",
       "3    27-XI-71 #211       0  1971  176.3×126.3cm    회화                   면에 유채   \n",
       "4        25-Ⅰ-68 Ⅳ       0  1968      58×37.4cm    회화                  신문에 유채   \n",
       "\n",
       "       source        date           price  \n",
       "0  아트데이옥션 온라인  2021/06/30        ￦900,000  \n",
       "1    서울옥션 온라인  2021/06/23        ￦850,000  \n",
       "2         K옥션  2021/06/23    ￦680,000,000  \n",
       "3        서울옥션  2021/06/22  ￦3,050,000,000  \n",
       "4        서울옥션  2021/06/22     ￦72,000,000  "
      ]
     },
     "execution_count": 178,
     "metadata": {},
     "output_type": "execute_result"
    }
   ],
   "source": [
    "df.head()"
   ]
  },
  {
   "cell_type": "markdown",
   "metadata": {},
   "source": [
    "## Standard\n",
    "\n",
    "가로*세로 곱한 값을 가져와서 '넓이'로 만든다.\n",
    "결측치 있는 것은 drop?"
   ]
  },
  {
   "cell_type": "code",
   "execution_count": 179,
   "metadata": {},
   "outputs": [
    {
     "data": {
      "text/html": [
       "<div>\n",
       "<style scoped>\n",
       "    .dataframe tbody tr th:only-of-type {\n",
       "        vertical-align: middle;\n",
       "    }\n",
       "\n",
       "    .dataframe tbody tr th {\n",
       "        vertical-align: top;\n",
       "    }\n",
       "\n",
       "    .dataframe thead th {\n",
       "        text-align: right;\n",
       "    }\n",
       "</style>\n",
       "<table border=\"1\" class=\"dataframe\">\n",
       "  <thead>\n",
       "    <tr style=\"text-align: right;\">\n",
       "      <th></th>\n",
       "      <th>title</th>\n",
       "      <th>author</th>\n",
       "      <th>year</th>\n",
       "      <th>standard</th>\n",
       "      <th>genre</th>\n",
       "      <th>technique</th>\n",
       "      <th>source</th>\n",
       "      <th>date</th>\n",
       "      <th>price</th>\n",
       "    </tr>\n",
       "  </thead>\n",
       "  <tbody>\n",
       "    <tr>\n",
       "      <th>2980</th>\n",
       "      <td>Burunt Umber &amp; Ultramarine Blue</td>\n",
       "      <td>8</td>\n",
       "      <td>NaN</td>\n",
       "      <td>NaN</td>\n",
       "      <td>회화</td>\n",
       "      <td>NaN</td>\n",
       "      <td>서울옥션 블루</td>\n",
       "      <td>2019/11/21</td>\n",
       "      <td>￦90,000,000</td>\n",
       "    </tr>\n",
       "    <tr>\n",
       "      <th>6168</th>\n",
       "      <td>하경산수</td>\n",
       "      <td>22</td>\n",
       "      <td>NaN</td>\n",
       "      <td>NaN</td>\n",
       "      <td>회화</td>\n",
       "      <td>종이에 수묵담채</td>\n",
       "      <td>마이아트옥션</td>\n",
       "      <td>2021/03/04</td>\n",
       "      <td>￦16,000,000</td>\n",
       "    </tr>\n",
       "    <tr>\n",
       "      <th>7013</th>\n",
       "      <td>고추</td>\n",
       "      <td>24</td>\n",
       "      <td>1979</td>\n",
       "      <td>NaN</td>\n",
       "      <td>회화</td>\n",
       "      <td>종이에 수묵담채</td>\n",
       "      <td>마이아트옥션</td>\n",
       "      <td>2017/05/22</td>\n",
       "      <td>￦9,000,000</td>\n",
       "    </tr>\n",
       "  </tbody>\n",
       "</table>\n",
       "</div>"
      ],
      "text/plain": [
       "                                title  author  year standard genre technique  \\\n",
       "2980  Burunt Umber & Ultramarine Blue       8   NaN      NaN    회화       NaN   \n",
       "6168                             하경산수      22   NaN      NaN    회화  종이에 수묵담채   \n",
       "7013                               고추      24  1979      NaN    회화  종이에 수묵담채   \n",
       "\n",
       "       source        date        price  \n",
       "2980  서울옥션 블루  2019/11/21  ￦90,000,000  \n",
       "6168   마이아트옥션  2021/03/04  ￦16,000,000  \n",
       "7013   마이아트옥션  2017/05/22   ￦9,000,000  "
      ]
     },
     "execution_count": 179,
     "metadata": {},
     "output_type": "execute_result"
    }
   ],
   "source": [
    "df[df['standard'].isnull()]"
   ]
  },
  {
   "cell_type": "markdown",
   "metadata": {},
   "source": [
    "결측치 데이터 3개 있어서 drop함"
   ]
  },
  {
   "cell_type": "code",
   "execution_count": 180,
   "metadata": {},
   "outputs": [
    {
     "data": {
      "text/html": [
       "<div>\n",
       "<style scoped>\n",
       "    .dataframe tbody tr th:only-of-type {\n",
       "        vertical-align: middle;\n",
       "    }\n",
       "\n",
       "    .dataframe tbody tr th {\n",
       "        vertical-align: top;\n",
       "    }\n",
       "\n",
       "    .dataframe thead th {\n",
       "        text-align: right;\n",
       "    }\n",
       "</style>\n",
       "<table border=\"1\" class=\"dataframe\">\n",
       "  <thead>\n",
       "    <tr style=\"text-align: right;\">\n",
       "      <th></th>\n",
       "      <th>title</th>\n",
       "      <th>author</th>\n",
       "      <th>year</th>\n",
       "      <th>standard</th>\n",
       "      <th>genre</th>\n",
       "      <th>technique</th>\n",
       "      <th>source</th>\n",
       "      <th>date</th>\n",
       "      <th>price</th>\n",
       "    </tr>\n",
       "  </thead>\n",
       "  <tbody>\n",
       "  </tbody>\n",
       "</table>\n",
       "</div>"
      ],
      "text/plain": [
       "Empty DataFrame\n",
       "Columns: [title, author, year, standard, genre, technique, source, date, price]\n",
       "Index: []"
      ]
     },
     "execution_count": 180,
     "metadata": {},
     "output_type": "execute_result"
    }
   ],
   "source": [
    "df.dropna(subset=['standard'], inplace=True)\n",
    "df[df['standard'].isnull()]"
   ]
  },
  {
   "cell_type": "markdown",
   "metadata": {},
   "source": [
    "데이터는 대개 다음과 같은 형태로 구성된다.\n",
    "\n",
    "1. {숫자}x{숫자}cm : 대부분\n",
    "2. {숫자}x{숫자}, {숫자}x{숫자}....\n",
    "3. 지름 {숫자}cm\n",
    "4. 지름 {숫자}x{숫자}"
   ]
  },
  {
   "cell_type": "code",
   "execution_count": 181,
   "metadata": {
    "scrolled": true
   },
   "outputs": [
    {
     "data": {
      "text/html": [
       "<div>\n",
       "<style scoped>\n",
       "    .dataframe tbody tr th:only-of-type {\n",
       "        vertical-align: middle;\n",
       "    }\n",
       "\n",
       "    .dataframe tbody tr th {\n",
       "        vertical-align: top;\n",
       "    }\n",
       "\n",
       "    .dataframe thead th {\n",
       "        text-align: right;\n",
       "    }\n",
       "</style>\n",
       "<table border=\"1\" class=\"dataframe\">\n",
       "  <thead>\n",
       "    <tr style=\"text-align: right;\">\n",
       "      <th></th>\n",
       "      <th>title</th>\n",
       "      <th>author</th>\n",
       "      <th>year</th>\n",
       "      <th>standard</th>\n",
       "      <th>genre</th>\n",
       "      <th>technique</th>\n",
       "      <th>source</th>\n",
       "      <th>date</th>\n",
       "      <th>price</th>\n",
       "    </tr>\n",
       "  </thead>\n",
       "  <tbody>\n",
       "    <tr>\n",
       "      <th>0</th>\n",
       "      <td>Duet</td>\n",
       "      <td>0</td>\n",
       "      <td>NaN</td>\n",
       "      <td>79.5×56.7cm</td>\n",
       "      <td>판화</td>\n",
       "      <td>오프셋 프린트, 스크린 프린트(사후판화)</td>\n",
       "      <td>아트데이옥션 온라인</td>\n",
       "      <td>2021/06/30</td>\n",
       "      <td>￦900,000</td>\n",
       "    </tr>\n",
       "    <tr>\n",
       "      <th>1</th>\n",
       "      <td>27-VIII-70 #186</td>\n",
       "      <td>0</td>\n",
       "      <td>2015</td>\n",
       "      <td>100×72.7cm</td>\n",
       "      <td>판화</td>\n",
       "      <td>피그먼트 프린트, 디아섹</td>\n",
       "      <td>서울옥션 온라인</td>\n",
       "      <td>2021/06/23</td>\n",
       "      <td>￦850,000</td>\n",
       "    </tr>\n",
       "    <tr>\n",
       "      <th>2</th>\n",
       "      <td>무제</td>\n",
       "      <td>0</td>\n",
       "      <td>1969</td>\n",
       "      <td>120.5×85.5cm</td>\n",
       "      <td>회화</td>\n",
       "      <td>코튼에 유채</td>\n",
       "      <td>K옥션</td>\n",
       "      <td>2021/06/23</td>\n",
       "      <td>￦680,000,000</td>\n",
       "    </tr>\n",
       "    <tr>\n",
       "      <th>3</th>\n",
       "      <td>27-XI-71 #211</td>\n",
       "      <td>0</td>\n",
       "      <td>1971</td>\n",
       "      <td>176.3×126.3cm</td>\n",
       "      <td>회화</td>\n",
       "      <td>면에 유채</td>\n",
       "      <td>서울옥션</td>\n",
       "      <td>2021/06/22</td>\n",
       "      <td>￦3,050,000,000</td>\n",
       "    </tr>\n",
       "    <tr>\n",
       "      <th>4</th>\n",
       "      <td>25-Ⅰ-68 Ⅳ</td>\n",
       "      <td>0</td>\n",
       "      <td>1968</td>\n",
       "      <td>58×37.4cm</td>\n",
       "      <td>회화</td>\n",
       "      <td>신문에 유채</td>\n",
       "      <td>서울옥션</td>\n",
       "      <td>2021/06/22</td>\n",
       "      <td>￦72,000,000</td>\n",
       "    </tr>\n",
       "    <tr>\n",
       "      <th>...</th>\n",
       "      <td>...</td>\n",
       "      <td>...</td>\n",
       "      <td>...</td>\n",
       "      <td>...</td>\n",
       "      <td>...</td>\n",
       "      <td>...</td>\n",
       "      <td>...</td>\n",
       "      <td>...</td>\n",
       "      <td>...</td>\n",
       "    </tr>\n",
       "    <tr>\n",
       "      <th>8177</th>\n",
       "      <td>독수리</td>\n",
       "      <td>29</td>\n",
       "      <td>1940년대</td>\n",
       "      <td>116×71cm</td>\n",
       "      <td>회화</td>\n",
       "      <td>종이에 수묵담채</td>\n",
       "      <td>아트데이옥션 온라인</td>\n",
       "      <td>2016/11/29</td>\n",
       "      <td>￦7,000,000</td>\n",
       "    </tr>\n",
       "    <tr>\n",
       "      <th>8178</th>\n",
       "      <td>군상</td>\n",
       "      <td>29</td>\n",
       "      <td>1940년대</td>\n",
       "      <td>14.8×21.8cm</td>\n",
       "      <td>회화</td>\n",
       "      <td>종이에 먹, 연필</td>\n",
       "      <td>아트데이옥션 온라인</td>\n",
       "      <td>2016/11/29</td>\n",
       "      <td>￦340,000</td>\n",
       "    </tr>\n",
       "    <tr>\n",
       "      <th>8179</th>\n",
       "      <td>부엉이</td>\n",
       "      <td>29</td>\n",
       "      <td>1940년대</td>\n",
       "      <td>65×62.5cm</td>\n",
       "      <td>판화</td>\n",
       "      <td>석판화</td>\n",
       "      <td>K옥션 온라인</td>\n",
       "      <td>2016/11/29</td>\n",
       "      <td>￦300,000</td>\n",
       "    </tr>\n",
       "    <tr>\n",
       "      <th>8180</th>\n",
       "      <td>삽화</td>\n",
       "      <td>29</td>\n",
       "      <td>1940년대</td>\n",
       "      <td>13×17.5cm</td>\n",
       "      <td>회화</td>\n",
       "      <td>종이에 수묵</td>\n",
       "      <td>에이옥션 온라인</td>\n",
       "      <td>2016/11/23</td>\n",
       "      <td>￦140,000</td>\n",
       "    </tr>\n",
       "    <tr>\n",
       "      <th>8181</th>\n",
       "      <td>청송장반백운간</td>\n",
       "      <td>29</td>\n",
       "      <td>1971</td>\n",
       "      <td>33.4×44.6cm</td>\n",
       "      <td>회화</td>\n",
       "      <td>종이에 수묵담채</td>\n",
       "      <td>서울옥션 블루</td>\n",
       "      <td>2016/11/22</td>\n",
       "      <td>￦1,800,000</td>\n",
       "    </tr>\n",
       "  </tbody>\n",
       "</table>\n",
       "<p>8182 rows × 9 columns</p>\n",
       "</div>"
      ],
      "text/plain": [
       "                title  author    year       standard genre  \\\n",
       "0                Duet       0     NaN    79.5×56.7cm    판화   \n",
       "1     27-VIII-70 #186       0    2015     100×72.7cm    판화   \n",
       "2                  무제       0    1969   120.5×85.5cm    회화   \n",
       "3       27-XI-71 #211       0    1971  176.3×126.3cm    회화   \n",
       "4           25-Ⅰ-68 Ⅳ       0    1968      58×37.4cm    회화   \n",
       "...               ...     ...     ...            ...   ...   \n",
       "8177              독수리      29  1940년대       116×71cm    회화   \n",
       "8178               군상      29  1940년대    14.8×21.8cm    회화   \n",
       "8179              부엉이      29  1940년대      65×62.5cm    판화   \n",
       "8180               삽화      29  1940년대      13×17.5cm    회화   \n",
       "8181          청송장반백운간      29    1971    33.4×44.6cm    회화   \n",
       "\n",
       "                   technique      source        date           price  \n",
       "0     오프셋 프린트, 스크린 프린트(사후판화)  아트데이옥션 온라인  2021/06/30        ￦900,000  \n",
       "1              피그먼트 프린트, 디아섹    서울옥션 온라인  2021/06/23        ￦850,000  \n",
       "2                     코튼에 유채         K옥션  2021/06/23    ￦680,000,000  \n",
       "3                      면에 유채        서울옥션  2021/06/22  ￦3,050,000,000  \n",
       "4                     신문에 유채        서울옥션  2021/06/22     ￦72,000,000  \n",
       "...                      ...         ...         ...             ...  \n",
       "8177                종이에 수묵담채  아트데이옥션 온라인  2016/11/29      ￦7,000,000  \n",
       "8178               종이에 먹, 연필  아트데이옥션 온라인  2016/11/29        ￦340,000  \n",
       "8179                     석판화     K옥션 온라인  2016/11/29        ￦300,000  \n",
       "8180                  종이에 수묵    에이옥션 온라인  2016/11/23        ￦140,000  \n",
       "8181                종이에 수묵담채     서울옥션 블루  2016/11/22      ￦1,800,000  \n",
       "\n",
       "[8182 rows x 9 columns]"
      ]
     },
     "execution_count": 181,
     "metadata": {},
     "output_type": "execute_result"
    }
   ],
   "source": [
    "df = df[~df['standard'].str.contains('☓')]\n",
    "df = df[~df['standard'].str.contains(':')]\n",
    "df = df[~df['standard'].str.contains('지름')]\n",
    "df = df[~df['standard'].str.contains('a.')]\n",
    "df = df[~df['standard'].str.contains(',')]\n",
    "df = df[~df['standard'].str.contains('외')]\n",
    "df = df[~df['standard'].str.contains(\"\\(\")]\n",
    "df = df[~df['standard'].str.contains(\"/\")]\n",
    "df = df[df['standard'].str.contains(\"×\")]\n",
    "df.reset_index(drop=True, inplace=True)\n",
    "df"
   ]
  },
  {
   "cell_type": "code",
   "execution_count": 182,
   "metadata": {
    "scrolled": false
   },
   "outputs": [
    {
     "name": "stderr",
     "output_type": "stream",
     "text": [
      "<ipython-input-182-849df69f0419>:11: SettingWithCopyWarning: \n",
      "A value is trying to be set on a copy of a slice from a DataFrame\n",
      "\n",
      "See the caveats in the documentation: https://pandas.pydata.org/pandas-docs/stable/user_guide/indexing.html#returning-a-view-versus-a-copy\n",
      "  df['area'][j] = height*width\n"
     ]
    }
   ],
   "source": [
    "df['area']=0\n",
    "for j in range(len(df)):\n",
    "    text = df['standard'][j]\n",
    "    height = text.split('×')[0]\n",
    "    width = text.split('×')[1]\n",
    "    height = float(height)\n",
    "    if 'cm' in width:\n",
    "        width = float(width[:-2])\n",
    "    else:\n",
    "        width = float(width)\n",
    "    df['area'][j] = height*width"
   ]
  },
  {
   "cell_type": "markdown",
   "metadata": {},
   "source": [
    "## genre"
   ]
  },
  {
   "cell_type": "code",
   "execution_count": 183,
   "metadata": {},
   "outputs": [
    {
     "data": {
      "text/html": [
       "<div>\n",
       "<style scoped>\n",
       "    .dataframe tbody tr th:only-of-type {\n",
       "        vertical-align: middle;\n",
       "    }\n",
       "\n",
       "    .dataframe tbody tr th {\n",
       "        vertical-align: top;\n",
       "    }\n",
       "\n",
       "    .dataframe thead th {\n",
       "        text-align: right;\n",
       "    }\n",
       "</style>\n",
       "<table border=\"1\" class=\"dataframe\">\n",
       "  <thead>\n",
       "    <tr style=\"text-align: right;\">\n",
       "      <th></th>\n",
       "      <th>title</th>\n",
       "      <th>author</th>\n",
       "      <th>year</th>\n",
       "      <th>standard</th>\n",
       "      <th>genre</th>\n",
       "      <th>technique</th>\n",
       "      <th>source</th>\n",
       "      <th>date</th>\n",
       "      <th>price</th>\n",
       "      <th>area</th>\n",
       "    </tr>\n",
       "  </thead>\n",
       "  <tbody>\n",
       "    <tr>\n",
       "      <th>0</th>\n",
       "      <td>Duet</td>\n",
       "      <td>0</td>\n",
       "      <td>NaN</td>\n",
       "      <td>79.5×56.7cm</td>\n",
       "      <td>1</td>\n",
       "      <td>오프셋 프린트, 스크린 프린트(사후판화)</td>\n",
       "      <td>아트데이옥션 온라인</td>\n",
       "      <td>2021/06/30</td>\n",
       "      <td>￦900,000</td>\n",
       "      <td>4507</td>\n",
       "    </tr>\n",
       "    <tr>\n",
       "      <th>1</th>\n",
       "      <td>27-VIII-70 #186</td>\n",
       "      <td>0</td>\n",
       "      <td>2015</td>\n",
       "      <td>100×72.7cm</td>\n",
       "      <td>1</td>\n",
       "      <td>피그먼트 프린트, 디아섹</td>\n",
       "      <td>서울옥션 온라인</td>\n",
       "      <td>2021/06/23</td>\n",
       "      <td>￦850,000</td>\n",
       "      <td>7270</td>\n",
       "    </tr>\n",
       "    <tr>\n",
       "      <th>2</th>\n",
       "      <td>무제</td>\n",
       "      <td>0</td>\n",
       "      <td>1969</td>\n",
       "      <td>120.5×85.5cm</td>\n",
       "      <td>0</td>\n",
       "      <td>코튼에 유채</td>\n",
       "      <td>K옥션</td>\n",
       "      <td>2021/06/23</td>\n",
       "      <td>￦680,000,000</td>\n",
       "      <td>10302</td>\n",
       "    </tr>\n",
       "    <tr>\n",
       "      <th>3</th>\n",
       "      <td>27-XI-71 #211</td>\n",
       "      <td>0</td>\n",
       "      <td>1971</td>\n",
       "      <td>176.3×126.3cm</td>\n",
       "      <td>0</td>\n",
       "      <td>면에 유채</td>\n",
       "      <td>서울옥션</td>\n",
       "      <td>2021/06/22</td>\n",
       "      <td>￦3,050,000,000</td>\n",
       "      <td>22266</td>\n",
       "    </tr>\n",
       "    <tr>\n",
       "      <th>4</th>\n",
       "      <td>25-Ⅰ-68 Ⅳ</td>\n",
       "      <td>0</td>\n",
       "      <td>1968</td>\n",
       "      <td>58×37.4cm</td>\n",
       "      <td>0</td>\n",
       "      <td>신문에 유채</td>\n",
       "      <td>서울옥션</td>\n",
       "      <td>2021/06/22</td>\n",
       "      <td>￦72,000,000</td>\n",
       "      <td>2169</td>\n",
       "    </tr>\n",
       "  </tbody>\n",
       "</table>\n",
       "</div>"
      ],
      "text/plain": [
       "             title  author  year       standard  genre  \\\n",
       "0             Duet       0   NaN    79.5×56.7cm      1   \n",
       "1  27-VIII-70 #186       0  2015     100×72.7cm      1   \n",
       "2               무제       0  1969   120.5×85.5cm      0   \n",
       "3    27-XI-71 #211       0  1971  176.3×126.3cm      0   \n",
       "4        25-Ⅰ-68 Ⅳ       0  1968      58×37.4cm      0   \n",
       "\n",
       "                technique      source        date           price   area  \n",
       "0  오프셋 프린트, 스크린 프린트(사후판화)  아트데이옥션 온라인  2021/06/30        ￦900,000   4507  \n",
       "1           피그먼트 프린트, 디아섹    서울옥션 온라인  2021/06/23        ￦850,000   7270  \n",
       "2                  코튼에 유채         K옥션  2021/06/23    ￦680,000,000  10302  \n",
       "3                   면에 유채        서울옥션  2021/06/22  ￦3,050,000,000  22266  \n",
       "4                  신문에 유채        서울옥션  2021/06/22     ￦72,000,000   2169  "
      ]
     },
     "execution_count": 183,
     "metadata": {},
     "output_type": "execute_result"
    }
   ],
   "source": [
    "df = df.replace(['회화', '판화', '서예', '서예-현판', '기타', '입체', '공예', '사진/미디어', '공예-도자기'],[0,1,2,3,4,5,6,7,8])\n",
    "df.head()"
   ]
  },
  {
   "cell_type": "markdown",
   "metadata": {},
   "source": [
    "## technique"
   ]
  },
  {
   "cell_type": "markdown",
   "metadata": {},
   "source": [
    "바탕재 : 목탄, 신문지, 종이, 직물, 캔버스, 하드보드, 한지, 도자기, 세라믹, 테라코타, 메소나이트, 나무, 낙엽, 은지\n",
    "\n",
    "재료 : 과슈, 마카, 매직, 사인펜, 색연필, 수묵, 수묵담채, 수채, 연필, 유화, 잉크, 채색, 펜, 혼합재료, 안료, 그라파이트, 아크릴릭, 콩테, 흑연, 콜라주, 먹, 수묵채색, 새김, 크레파스, 에나멜, 오일파스텔"
   ]
  },
  {
   "cell_type": "markdown",
   "metadata": {},
   "source": [
    "프린트, 스크린, 부채, 포스터, 탁본, 인쇄, 지본묵서, 판화, 접선, 장지, 신문 = 종이\n",
    "카드보드 = 하드보드\n",
    "드라이포인트,아쿼틴트, 에칭,믹소그라피아, 믹소그라피, 믹소그래프  = 금속\n",
    "디아섹 = 아크릴\n",
    "천, 비단, 세리그라프, 에코백, 면, 견, 마포, 마대, 모시, 린넨, 금견, 코튼, = 직물\n",
    "도자, 세라믹 = 도자기\n",
    "목판인쇄본 = 나무\n",
    "켄버스 = 캔버스"
   ]
  },
  {
   "cell_type": "markdown",
   "metadata": {},
   "source": [
    "유채 = 유화+채색\n"
   ]
  },
  {
   "cell_type": "code",
   "execution_count": 184,
   "metadata": {},
   "outputs": [
    {
     "name": "stderr",
     "output_type": "stream",
     "text": [
      "<ipython-input-184-f9c270990f23>:31: SettingWithCopyWarning: \n",
      "A value is trying to be set on a copy of a slice from a DataFrame\n",
      "\n",
      "See the caveats in the documentation: https://pandas.pydata.org/pandas-docs/stable/user_guide/indexing.html#returning-a-view-versus-a-copy\n",
      "  df['technique'][i] = new_text\n"
     ]
    }
   ],
   "source": [
    "tech_dictionary = {'프린트': '종이', '스크린':'종이', '부채': '종이', '탁본' : '종이', '인쇄':'종이', '지본묵서': '종이',\n",
    "             '판화': '종이', '접선':'종이', '지본수묵':'종이', '포스터':'종이','장지': '종이', '신문': '종이', '지도':'종이', \n",
    "            \n",
    "            '카드보드':'하드보드', \n",
    "                   \n",
    "             '드라이포인트': '금속', '아쿼틴트': '금속', '에칭': '금속','믹소그라피아': '금속','믹소그라피': '금속',\n",
    "                   \n",
    "            '믹소그래프': '금속','디아섹': '아크릴', \n",
    "            '천': '직물', '비단': '직물', '세리그라프': '직물','세리그래프':'직물','에코백': '직물', \n",
    "            '면': '직물', '견': '직물', '마포': '직물', '마대': '직물', '모시': '직물', '린넨': '직물', '금견': '직물', \n",
    "            '코튼': '직물', \n",
    "            '도자에': '세라믹', '도자기': '세라믹', '목판인쇄본': '나무', '켄버스':'캔버스',\n",
    "            '그라파이트' : '흑연',\n",
    "            '나뭇잎' : '낙엽',  \n",
    "            '먹' : '수묵',\n",
    "            '수묵채색' : '수묵담채',\n",
    "            '유채':'유화 채색'}\n",
    "\n",
    "tech_dictionary.items()\n",
    "\n",
    "def tech_replace(text, dic):\n",
    "    for i, j in dic.items():\n",
    "        text = text.replace(i,j)\n",
    "    return text\n",
    "\n",
    "for i in range(len(df)):\n",
    "    text = str(df['technique'][i])\n",
    "#     print(\"Previous : \", text)\n",
    "    new_text = tech_replace(text, tech_dictionary)\n",
    "#     print(new_text)\n",
    "    df['technique'][i] = new_text"
   ]
  },
  {
   "cell_type": "code",
   "execution_count": 185,
   "metadata": {},
   "outputs": [
    {
     "name": "stdout",
     "output_type": "stream",
     "text": [
      "37\n",
      "37\n"
     ]
    }
   ],
   "source": [
    "base_material = ['목탄', '종이',  '직물',  '캔버스', '하드보드', '한지', \n",
    "                 '세라믹', '테라코타', '메소나이트', '나무', '낙엽', '은지', '금속']\n",
    "\n",
    "material = ['과슈', '마카', '매직', '사인펜', '색연필', '수묵', '수묵담채', '수채', '연필', '유화', '잉크', \n",
    "            '채색', '펜', '혼합재료', '안료', '그라파이트', '아크릴', '콩테', '콜라주', '새김', \n",
    "            '크레파스', '에나멜', '오일파스텔']\n",
    "arr = ['목탄', '종이', '직물', '캔버스', '하드보드', '한지','세라믹', '테라코타', '메소나이트', '나무', '낙엽', '은지', '금속',\n",
    "       '과슈', '마카', '매직', '사인펜', '색연필', '수묵', '수묵담채', '수채', '연필', '유화', '유채', '잉크', '채색', '펜', \n",
    "       '혼합재료', '안료', '흑연', '아크릴', '콩테', '콜라주', '새김', '크레파스', '에나멜', '오일파스텔']\n",
    "tech_iter = ['base_charcoal', 'base_paper', 'base_fiber', 'base_canvas', 'base_hardboard', 'base_hanji', 'base_ceramic',\n",
    "            'base_terracotta', 'base_masonite', 'base_wood', 'base_leaf', 'base_silverpaper', 'base_metal',\n",
    "            'mate_gouache', 'mate_maca', 'mate_magic', 'mate_signpen', 'mate_colorpencil', 'mate_korean_ink', 'mate_korean_ink_and_color',\n",
    "            'mate_watercolor', 'mate_pencil', 'mate_oil', 'mate_oil_and_color', 'mate_ink', 'mate_color', 'mate_pen', 'mate_mixture',\n",
    "            'mate_pigment', 'mate_graphite', 'mate_acrylic', 'mate_conte', 'mate_collage', 'mate_engrave', 'mate_crayon', 'mate_enamel',\n",
    "            'mate_oilpastel']\n",
    "print(len(arr))\n",
    "print(len(tech_iter))"
   ]
  },
  {
   "cell_type": "code",
   "execution_count": 186,
   "metadata": {},
   "outputs": [],
   "source": [
    "df['base_charcoal'] = 0\n",
    "df['base_paper'] = 0\n",
    "df['base_fiber'] = 0\n",
    "df['base_canvas'] = 0\n",
    "df['base_hardboard'] = 0\n",
    "df['base_hanji'] = 0\n",
    "df['base_ceramic'] = 0\n",
    "df['base_terracotta'] = 0\n",
    "df['base_masonite'] = 0\n",
    "df['base_wood'] = 0\n",
    "df['base_leaf'] = 0\n",
    "df['base_silverpaper'] = 0\n",
    "df['base_metal'] = 0\n",
    "\n",
    "df['mate_gouache'] = 0\n",
    "df['mate_maca'] = 0\n",
    "df['mate_magic'] = 0\n",
    "df['mate_signpen'] = 0\n",
    "df['mate_colorpencil'] = 0\n",
    "df['mate_korean_ink'] = 0\n",
    "df['mate_korean_ink_and_color'] = 0\n",
    "df['mate_watercolor'] = 0\n",
    "df['mate_pencil'] = 0\n",
    "df['mate_oil'] = 0\n",
    "df['mate_oil_and_color'] = 0\n",
    "df['mate_ink'] = 0\n",
    "df['mate_color'] = 0\n",
    "df['mate_pen'] = 0\n",
    "df['mate_mixture'] = 0\n",
    "df['mate_pigment'] = 0 #안료\n",
    "df['mate_graphite'] = 0\n",
    "df['mate_acrylic'] = 0\n",
    "df['mate_conte'] = 0\n",
    "df['mate_collage'] = 0\n",
    "df['mate_engrave'] = 0 #새김\n",
    "df['mate_crayon'] = 0 #크레파스\n",
    "df['mate_enamel'] = 0\n",
    "df['mate_oilpastel'] = 0"
   ]
  },
  {
   "cell_type": "code",
   "execution_count": 187,
   "metadata": {},
   "outputs": [],
   "source": [
    "df_copy = df.copy()"
   ]
  },
  {
   "cell_type": "code",
   "execution_count": 188,
   "metadata": {
    "scrolled": true
   },
   "outputs": [
    {
     "name": "stderr",
     "output_type": "stream",
     "text": [
      "<ipython-input-188-f087a86ac1fc>:5: SettingWithCopyWarning: \n",
      "A value is trying to be set on a copy of a slice from a DataFrame\n",
      "\n",
      "See the caveats in the documentation: https://pandas.pydata.org/pandas-docs/stable/user_guide/indexing.html#returning-a-view-versus-a-copy\n",
      "  df_copy[tech_iter[j]][i]=1\n"
     ]
    }
   ],
   "source": [
    "for i in range(0, len(df_copy)):\n",
    "    text = str(df_copy['technique'][i])\n",
    "    for j in range(0, len(arr)):\n",
    "        if arr[j] in text:\n",
    "            df_copy[tech_iter[j]][i]=1\n",
    "            continue"
   ]
  },
  {
   "cell_type": "code",
   "execution_count": 189,
   "metadata": {},
   "outputs": [
    {
     "data": {
      "text/plain": [
       "1    5342\n",
       "0    2840\n",
       "Name: base_paper, dtype: int64"
      ]
     },
     "execution_count": 189,
     "metadata": {},
     "output_type": "execute_result"
    }
   ],
   "source": [
    "df_copy['base_paper'].value_counts()"
   ]
  },
  {
   "cell_type": "code",
   "execution_count": 190,
   "metadata": {},
   "outputs": [
    {
     "name": "stdout",
     "output_type": "stream",
     "text": [
      "base_charcoal\n",
      "0    8160\n",
      "1      22\n",
      "Name: base_charcoal, dtype: int64\n",
      "base_paper\n",
      "1    5342\n",
      "0    2840\n",
      "Name: base_paper, dtype: int64\n",
      "base_fiber\n",
      "0    7428\n",
      "1     754\n",
      "Name: base_fiber, dtype: int64\n",
      "base_canvas\n",
      "0    6635\n",
      "1    1547\n",
      "Name: base_canvas, dtype: int64\n",
      "base_hardboard\n",
      "0    8155\n",
      "1      27\n",
      "Name: base_hardboard, dtype: int64\n",
      "base_hanji\n",
      "0    7863\n",
      "1     319\n",
      "Name: base_hanji, dtype: int64\n",
      "base_ceramic\n",
      "0    8168\n",
      "1      14\n",
      "Name: base_ceramic, dtype: int64\n",
      "base_terracotta\n",
      "0    8170\n",
      "1      12\n",
      "Name: base_terracotta, dtype: int64\n",
      "base_masonite\n",
      "0    8180\n",
      "1       2\n",
      "Name: base_masonite, dtype: int64\n",
      "base_wood\n",
      "0    8118\n",
      "1      64\n",
      "Name: base_wood, dtype: int64\n",
      "base_leaf\n",
      "0    8168\n",
      "1      14\n",
      "Name: base_leaf, dtype: int64\n",
      "base_silverpaper\n",
      "0    8176\n",
      "1       6\n",
      "Name: base_silverpaper, dtype: int64\n",
      "base_metal\n",
      "0    8089\n",
      "1      93\n",
      "Name: base_metal, dtype: int64\n",
      "mate_gouache\n",
      "0    8051\n",
      "1     131\n",
      "Name: mate_gouache, dtype: int64\n",
      "mate_maca\n",
      "0    8182\n",
      "Name: mate_maca, dtype: int64\n",
      "mate_magic\n",
      "0    8171\n",
      "1      11\n",
      "Name: mate_magic, dtype: int64\n",
      "mate_signpen\n",
      "0    8170\n",
      "1      12\n",
      "Name: mate_signpen, dtype: int64\n",
      "mate_colorpencil\n",
      "0    8164\n",
      "1      18\n",
      "Name: mate_colorpencil, dtype: int64\n",
      "mate_korean_ink\n",
      "0    6480\n",
      "1    1702\n",
      "Name: mate_korean_ink, dtype: int64\n",
      "mate_korean_ink_and_color\n",
      "0    7032\n",
      "1    1150\n",
      "Name: mate_korean_ink_and_color, dtype: int64\n",
      "mate_watercolor\n",
      "0    8054\n",
      "1     128\n",
      "Name: mate_watercolor, dtype: int64\n",
      "mate_pencil\n",
      "0    8052\n",
      "1     130\n",
      "Name: mate_pencil, dtype: int64\n",
      "mate_oil\n",
      "0    6809\n",
      "1    1373\n",
      "Name: mate_oil, dtype: int64\n",
      "mate_oil_and_color\n",
      "0    8182\n",
      "Name: mate_oil_and_color, dtype: int64\n",
      "mate_ink\n",
      "0    8160\n",
      "1      22\n",
      "Name: mate_ink, dtype: int64\n",
      "mate_color\n",
      "0    6369\n",
      "1    1813\n",
      "Name: mate_color, dtype: int64\n",
      "mate_pen\n",
      "0    8050\n",
      "1     132\n",
      "Name: mate_pen, dtype: int64\n",
      "mate_mixture\n",
      "0    7760\n",
      "1     422\n",
      "Name: mate_mixture, dtype: int64\n",
      "mate_pigment\n",
      "0    8000\n",
      "1     182\n",
      "Name: mate_pigment, dtype: int64\n",
      "mate_graphite\n",
      "0    8158\n",
      "1      24\n",
      "Name: mate_graphite, dtype: int64\n",
      "mate_acrylic\n",
      "0    7494\n",
      "1     688\n",
      "Name: mate_acrylic, dtype: int64\n",
      "mate_conte\n",
      "0    8176\n",
      "1       6\n",
      "Name: mate_conte, dtype: int64\n",
      "mate_collage\n",
      "0    8148\n",
      "1      34\n",
      "Name: mate_collage, dtype: int64\n",
      "mate_engrave\n",
      "0    8177\n",
      "1       5\n",
      "Name: mate_engrave, dtype: int64\n",
      "mate_crayon\n",
      "0    8180\n",
      "1       2\n",
      "Name: mate_crayon, dtype: int64\n",
      "mate_enamel\n",
      "0    8181\n",
      "1       1\n",
      "Name: mate_enamel, dtype: int64\n",
      "mate_oilpastel\n",
      "0    8166\n",
      "1      16\n",
      "Name: mate_oilpastel, dtype: int64\n"
     ]
    }
   ],
   "source": [
    "for word in tech_iter:\n",
    "    print(word)\n",
    "    print(df_copy[word].value_counts())"
   ]
  },
  {
   "cell_type": "code",
   "execution_count": 191,
   "metadata": {},
   "outputs": [],
   "source": [
    "df = df_copy"
   ]
  },
  {
   "cell_type": "markdown",
   "metadata": {},
   "source": [
    "## source"
   ]
  },
  {
   "cell_type": "markdown",
   "metadata": {},
   "source": [
    "K옥션 = 0 0\n",
    "K옥션 온라인 = 0 1\n",
    "서울옥션(홍콩, 블루) = 1 0\n",
    "서울옥션 온라인 = 1 1\n",
    "아트데이옥션 = 2 0\n",
    "아트데이옥션 온라인 = 2 1\n",
    "아이옥션 = 3 0\n",
    "아이옥션 온라인 = 3 1\n",
    "마이아트옥션 = 4 0\n",
    "마이아트옥션 온라인 = 4 1\n",
    "에이옥션 온라인 = 5 1\n",
    "칸옥션 = 6 0\n",
    "꼬모옥션 온라인 = 7 1"
   ]
  },
  {
   "cell_type": "code",
   "execution_count": 192,
   "metadata": {},
   "outputs": [
    {
     "data": {
      "text/plain": [
       "K옥션 온라인       3101\n",
       "K옥션           1378\n",
       "서울옥션           870\n",
       "아트데이옥션 온라인     701\n",
       "에이옥션 온라인       509\n",
       "서울옥션 온라인       449\n",
       "아이옥션           253\n",
       "서울옥션 홍콩        236\n",
       "서울옥션 블루        145\n",
       "아이옥션 온라인       132\n",
       "마이아트옥션         126\n",
       "아트데이옥션         102\n",
       "칸옥션            101\n",
       "꼬모옥션 온라인        68\n",
       "마이아트옥션 온라인      11\n",
       "Name: source, dtype: int64"
      ]
     },
     "execution_count": 192,
     "metadata": {},
     "output_type": "execute_result"
    }
   ],
   "source": [
    "df['source'].value_counts()"
   ]
  },
  {
   "cell_type": "code",
   "execution_count": 193,
   "metadata": {
    "scrolled": true
   },
   "outputs": [
    {
     "name": "stderr",
     "output_type": "stream",
     "text": [
      "<ipython-input-193-daf944d43a37>:4: SettingWithCopyWarning: \n",
      "A value is trying to be set on a copy of a slice from a DataFrame\n",
      "\n",
      "See the caveats in the documentation: https://pandas.pydata.org/pandas-docs/stable/user_guide/indexing.html#returning-a-view-versus-a-copy\n",
      "  df['online'][i] = 1\n"
     ]
    }
   ],
   "source": [
    "df['online'] = 0\n",
    "for i in range(0, len(df)):\n",
    "    if '온라인' in df['source'][i]:\n",
    "        df['online'][i] = 1"
   ]
  },
  {
   "cell_type": "code",
   "execution_count": 194,
   "metadata": {},
   "outputs": [
    {
     "data": {
      "text/plain": [
       "1    4971\n",
       "0    3211\n",
       "Name: online, dtype: int64"
      ]
     },
     "execution_count": 194,
     "metadata": {},
     "output_type": "execute_result"
    }
   ],
   "source": [
    "df['online'].value_counts()"
   ]
  },
  {
   "cell_type": "code",
   "execution_count": 195,
   "metadata": {},
   "outputs": [
    {
     "data": {
      "text/plain": [
       "0    4479\n",
       "1    1700\n",
       "2     803\n",
       "5     509\n",
       "3     385\n",
       "4     137\n",
       "6     101\n",
       "7      68\n",
       "Name: source, dtype: int64"
      ]
     },
     "execution_count": 195,
     "metadata": {},
     "output_type": "execute_result"
    }
   ],
   "source": [
    "df = df.replace(['K옥션 온라인', 'K옥션'],[0,0])\n",
    "df = df.replace(['서울옥션', '서울옥션 온라인', '서울옥션 홍콩', '서울옥션 블루'],[1, 1, 1, 1])\n",
    "df = df.replace(['아트데이옥션 온라인', '아트데이옥션'],[2, 2])\n",
    "df = df.replace(['아이옥션 온라인', '아이옥션'],[3, 3])\n",
    "df = df.replace(['마이아트옥션 온라인', '마이아트옥션'],[4, 4])\n",
    "df = df.replace(['에이옥션 온라인', '칸옥션', '꼬모옥션 온라인'],[5,6,7])\n",
    "\n",
    "df['source'].value_counts()"
   ]
  },
  {
   "cell_type": "markdown",
   "metadata": {},
   "source": [
    "## price"
   ]
  },
  {
   "cell_type": "code",
   "execution_count": 196,
   "metadata": {},
   "outputs": [
    {
     "data": {
      "text/plain": [
       "0             ￦900,000\n",
       "1             ￦850,000\n",
       "2         ￦680,000,000\n",
       "3       ￦3,050,000,000\n",
       "4          ￦72,000,000\n",
       "             ...      \n",
       "8177        ￦7,000,000\n",
       "8178          ￦340,000\n",
       "8179          ￦300,000\n",
       "8180          ￦140,000\n",
       "8181        ￦1,800,000\n",
       "Name: price, Length: 8182, dtype: object"
      ]
     },
     "execution_count": 196,
     "metadata": {},
     "output_type": "execute_result"
    }
   ],
   "source": [
    "df['price']"
   ]
  },
  {
   "cell_type": "code",
   "execution_count": 199,
   "metadata": {},
   "outputs": [
    {
     "name": "stderr",
     "output_type": "stream",
     "text": [
      "<ipython-input-199-01d8861cef3a>:5: SettingWithCopyWarning: \n",
      "A value is trying to be set on a copy of a slice from a DataFrame\n",
      "\n",
      "See the caveats in the documentation: https://pandas.pydata.org/pandas-docs/stable/user_guide/indexing.html#returning-a-view-versus-a-copy\n",
      "  df['price'][i] = text\n"
     ]
    },
    {
     "data": {
      "text/plain": [
       "0           900000\n",
       "1           850000\n",
       "2        680000000\n",
       "3       3050000000\n",
       "4         72000000\n",
       "           ...    \n",
       "8177       7000000\n",
       "8178        340000\n",
       "8179        300000\n",
       "8180        140000\n",
       "8181       1800000\n",
       "Name: price, Length: 8182, dtype: object"
      ]
     },
     "execution_count": 199,
     "metadata": {},
     "output_type": "execute_result"
    }
   ],
   "source": [
    "for i in range(0, len(df)):\n",
    "    text = df['price'][i]\n",
    "    text = text.replace('￦','')\n",
    "    text=  text.replace(',', '')\n",
    "    df['price'][i] = text\n",
    "df['price']"
   ]
  },
  {
   "cell_type": "markdown",
   "metadata": {},
   "source": [
    "## Ye"
   ]
  }
 ],
 "metadata": {
  "kernelspec": {
   "display_name": "Python 3",
   "language": "python",
   "name": "python3"
  },
  "language_info": {
   "codemirror_mode": {
    "name": "ipython",
    "version": 3
   },
   "file_extension": ".py",
   "mimetype": "text/x-python",
   "name": "python",
   "nbconvert_exporter": "python",
   "pygments_lexer": "ipython3",
   "version": "3.8.5"
  }
 },
 "nbformat": 4,
 "nbformat_minor": 4
}
